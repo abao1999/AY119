{
 "cells": [
  {
   "cell_type": "markdown",
   "metadata": {},
   "source": [
    "## Time Series Exercises for Ay 119\n",
    "\n",
    "<b>Written by:</b> Matthew J. Graham (Caltech), May 2020\n",
    "\n",
    "<b>Dependencies:</b>\n",
    "\n",
    "   * numpy\n",
    "   * pandas\n",
    "   * astropy.timeseries\n",
    "   * sklearn.datasets\n",
    "   * GPy (pip install GPy)\n"
   ]
  },
  {
   "cell_type": "markdown",
   "metadata": {},
   "source": [
    "### Period finding\n",
    "\n",
    "Since period finding is one of the main time series analysis techniques in astronomy, we're going to explore some of the dependencies of the most popular period finding algorithm -- the Lomb-Scargle periodogram (see Jake Vanderplas' excellent review article on this: https://arxiv.org/abs/1703.09824 and with associated code at https://github.com/jakevdp/PracticalLombScargle/). In particular, we want to assess its performance as a function of signal-to-noise, time series sampling, and waveform shape. It is often worth investigating the performance of algorithms in terms of toy data sets to get an understanding of what the limitations may be. So:"
   ]
  },
  {
   "cell_type": "markdown",
   "metadata": {},
   "source": [
    "1) Write a routine to generate a periodic time series of a function $perfunc$ at a period of $per$, containing $n$ datapoints, assuming homoscedastic Gaussian errors given by a variance $sigma^2$, with a mean sample time of $meandt$, and a flag to indicate whether the sampling is regular or irregular:\n",
    "\n"
   ]
  },
  {
   "cell_type": "code",
   "execution_count": 96,
   "metadata": {},
   "outputs": [],
   "source": [
    "import math\n",
    "import pandas as pd\n",
    "import numpy as np\n",
    "\n",
    "eps = 1e-12\n",
    "\n",
    "def getTimeSeries(perfunc, per, n, sigma2, meandt, regular_sample = True):\n",
    "        ts = [0] * n\n",
    "        t = 0\n",
    "        for i in range(n):\n",
    "            val = perfunc(t, per)\n",
    "            if val > eps:\n",
    "                ts[i] = perfunc(t, per)\n",
    "            t += 1\n",
    "        return ts"
   ]
  },
  {
   "cell_type": "markdown",
   "metadata": {},
   "source": [
    "Demonstrate it with (a) a sinusoidal waveform ($y(t) = \\sin(2 \\pi t / per)$) and (b) a square waveform and apply LombScargle to recover the period (so choose a range of test frequencies, or use autopower (see the documentation for the astropy.timeseries.LombScargle method) and then plot the corresponding periodogram, and the phase folded time series ($phi = t / per - int(t / per)$. "
   ]
  },
  {
   "cell_type": "code",
   "execution_count": 21,
   "metadata": {},
   "outputs": [
    {
     "name": "stdout",
     "output_type": "stream",
     "text": [
      "[0, 0.9092974268256817, 0, 0, 0.9893582466233818]\n"
     ]
    }
   ],
   "source": [
    "demo_wf1 = lambda t, per: math.sin(2*math.pi*t/per)\n",
    "\n",
    "ts1 = getTimeSeries(demo_wf1, math.pi, 5, 0, 0, regular_sample=True)\n",
    "\n",
    "print(ts1)"
   ]
  },
  {
   "cell_type": "markdown",
   "metadata": {},
   "source": [
    "2) For a range of periods extending over three decades, e.g., $\\log_{10}(per) = 1 - 3$, generate 100 time series and determine how accurate (how many period found by Lomb-Scargle are within 1\\% of the known periods) Lomb-Scargle is as:\n",
    "\n",
    "a) a function of number of data points in the time series, i.e., plot LS accuracy againts $n$\n",
    "\n",
    "b) a range of error values ($sigma^2$)\n",
    "\n",
    "c) different sample times, both regular and irregular ($dt = meandt + random value$)\n",
    "\n",
    "Does Lomb-Scargle do better for a sinusoidal waveform than the square waveform?"
   ]
  },
  {
   "cell_type": "markdown",
   "metadata": {},
   "source": [
    "### Gaussian processes\n",
    "\n",
    "A Gaussian process is an optimal way (in a Bayesian sense) to fit a time series and can be used to predict (interpolate) values where needed as well as forecasting (extrapolating). The standard set we are going to look at consists of monthly average $CO_2$ concentrations collected at the Mauna Loa Observatory in Hawaii between 1958 and 2001. We want to model the $CO_2$ concentration as a function of time.\n",
    "\n",
    "The data is available as a standard data set:"
   ]
  },
  {
   "cell_type": "code",
   "execution_count": 46,
   "metadata": {},
   "outputs": [],
   "source": [
    "from sklearn.datasets import fetch_openml\n",
    "# mauna-loa-atmospheric-co2\n",
    "# co2_data = fetch_openml(data_id=41187)\n",
    "# X, y = fetch_openml('mnist_784', version=1, return_X_y=True, as_frame=False)\n",
    "X, y = fetch_openml('mauna-loa-atmospheric-co2', version=1, return_X_y=True, as_frame=False)"
   ]
  },
  {
   "cell_type": "code",
   "execution_count": 58,
   "metadata": {},
   "outputs": [],
   "source": [
    "# features are: listed here https://www.openml.org/d/41187\n",
    "# X.shape\n",
    "# y.shape\n",
    "# print(X)\n",
    "COL_NAMES = ['co2', 'year', 'month', 'day', 'weight', 'flag', 'station']\n",
    "\n",
    "feats = pd.DataFrame(X, columns=COL_NAMES[1:])\n",
    "target = pd.DataFrame(y, columns=COL_NAMES[:1])"
   ]
  },
  {
   "cell_type": "code",
   "execution_count": 60,
   "metadata": {},
   "outputs": [
    {
     "data": {
      "text/html": [
       "<div>\n",
       "<style scoped>\n",
       "    .dataframe tbody tr th:only-of-type {\n",
       "        vertical-align: middle;\n",
       "    }\n",
       "\n",
       "    .dataframe tbody tr th {\n",
       "        vertical-align: top;\n",
       "    }\n",
       "\n",
       "    .dataframe thead th {\n",
       "        text-align: right;\n",
       "    }\n",
       "</style>\n",
       "<table border=\"1\" class=\"dataframe\">\n",
       "  <thead>\n",
       "    <tr style=\"text-align: right;\">\n",
       "      <th></th>\n",
       "      <th>year</th>\n",
       "      <th>month</th>\n",
       "      <th>day</th>\n",
       "      <th>weight</th>\n",
       "      <th>flag</th>\n",
       "      <th>station</th>\n",
       "    </tr>\n",
       "  </thead>\n",
       "  <tbody>\n",
       "    <tr>\n",
       "      <td>0</td>\n",
       "      <td>1958.0</td>\n",
       "      <td>3.0</td>\n",
       "      <td>29.0</td>\n",
       "      <td>4.0</td>\n",
       "      <td>0.0</td>\n",
       "      <td>0.0</td>\n",
       "    </tr>\n",
       "    <tr>\n",
       "      <td>1</td>\n",
       "      <td>1958.0</td>\n",
       "      <td>4.0</td>\n",
       "      <td>5.0</td>\n",
       "      <td>6.0</td>\n",
       "      <td>0.0</td>\n",
       "      <td>0.0</td>\n",
       "    </tr>\n",
       "    <tr>\n",
       "      <td>2</td>\n",
       "      <td>1958.0</td>\n",
       "      <td>4.0</td>\n",
       "      <td>12.0</td>\n",
       "      <td>4.0</td>\n",
       "      <td>0.0</td>\n",
       "      <td>0.0</td>\n",
       "    </tr>\n",
       "    <tr>\n",
       "      <td>3</td>\n",
       "      <td>1958.0</td>\n",
       "      <td>4.0</td>\n",
       "      <td>19.0</td>\n",
       "      <td>6.0</td>\n",
       "      <td>0.0</td>\n",
       "      <td>0.0</td>\n",
       "    </tr>\n",
       "    <tr>\n",
       "      <td>4</td>\n",
       "      <td>1958.0</td>\n",
       "      <td>4.0</td>\n",
       "      <td>26.0</td>\n",
       "      <td>2.0</td>\n",
       "      <td>0.0</td>\n",
       "      <td>0.0</td>\n",
       "    </tr>\n",
       "    <tr>\n",
       "      <td>...</td>\n",
       "      <td>...</td>\n",
       "      <td>...</td>\n",
       "      <td>...</td>\n",
       "      <td>...</td>\n",
       "      <td>...</td>\n",
       "      <td>...</td>\n",
       "    </tr>\n",
       "    <tr>\n",
       "      <td>2220</td>\n",
       "      <td>2001.0</td>\n",
       "      <td>12.0</td>\n",
       "      <td>1.0</td>\n",
       "      <td>7.0</td>\n",
       "      <td>0.0</td>\n",
       "      <td>0.0</td>\n",
       "    </tr>\n",
       "    <tr>\n",
       "      <td>2221</td>\n",
       "      <td>2001.0</td>\n",
       "      <td>12.0</td>\n",
       "      <td>8.0</td>\n",
       "      <td>7.0</td>\n",
       "      <td>0.0</td>\n",
       "      <td>0.0</td>\n",
       "    </tr>\n",
       "    <tr>\n",
       "      <td>2222</td>\n",
       "      <td>2001.0</td>\n",
       "      <td>12.0</td>\n",
       "      <td>15.0</td>\n",
       "      <td>7.0</td>\n",
       "      <td>0.0</td>\n",
       "      <td>0.0</td>\n",
       "    </tr>\n",
       "    <tr>\n",
       "      <td>2223</td>\n",
       "      <td>2001.0</td>\n",
       "      <td>12.0</td>\n",
       "      <td>22.0</td>\n",
       "      <td>6.0</td>\n",
       "      <td>0.0</td>\n",
       "      <td>0.0</td>\n",
       "    </tr>\n",
       "    <tr>\n",
       "      <td>2224</td>\n",
       "      <td>2001.0</td>\n",
       "      <td>12.0</td>\n",
       "      <td>29.0</td>\n",
       "      <td>6.0</td>\n",
       "      <td>0.0</td>\n",
       "      <td>0.0</td>\n",
       "    </tr>\n",
       "  </tbody>\n",
       "</table>\n",
       "<p>2225 rows × 6 columns</p>\n",
       "</div>"
      ],
      "text/plain": [
       "        year  month   day  weight  flag  station\n",
       "0     1958.0    3.0  29.0     4.0   0.0      0.0\n",
       "1     1958.0    4.0   5.0     6.0   0.0      0.0\n",
       "2     1958.0    4.0  12.0     4.0   0.0      0.0\n",
       "3     1958.0    4.0  19.0     6.0   0.0      0.0\n",
       "4     1958.0    4.0  26.0     2.0   0.0      0.0\n",
       "...      ...    ...   ...     ...   ...      ...\n",
       "2220  2001.0   12.0   1.0     7.0   0.0      0.0\n",
       "2221  2001.0   12.0   8.0     7.0   0.0      0.0\n",
       "2222  2001.0   12.0  15.0     7.0   0.0      0.0\n",
       "2223  2001.0   12.0  22.0     6.0   0.0      0.0\n",
       "2224  2001.0   12.0  29.0     6.0   0.0      0.0\n",
       "\n",
       "[2225 rows x 6 columns]"
      ]
     },
     "execution_count": 60,
     "metadata": {},
     "output_type": "execute_result"
    }
   ],
   "source": [
    "feats"
   ]
  },
  {
   "cell_type": "code",
   "execution_count": 121,
   "metadata": {},
   "outputs": [
    {
     "data": {
      "text/html": [
       "<div>\n",
       "<style scoped>\n",
       "    .dataframe tbody tr th:only-of-type {\n",
       "        vertical-align: middle;\n",
       "    }\n",
       "\n",
       "    .dataframe tbody tr th {\n",
       "        vertical-align: top;\n",
       "    }\n",
       "\n",
       "    .dataframe thead th {\n",
       "        text-align: right;\n",
       "    }\n",
       "</style>\n",
       "<table border=\"1\" class=\"dataframe\">\n",
       "  <thead>\n",
       "    <tr style=\"text-align: right;\">\n",
       "      <th></th>\n",
       "      <th>co2</th>\n",
       "    </tr>\n",
       "  </thead>\n",
       "  <tbody>\n",
       "    <tr>\n",
       "      <td>0</td>\n",
       "      <td>316.1</td>\n",
       "    </tr>\n",
       "    <tr>\n",
       "      <td>1</td>\n",
       "      <td>317.3</td>\n",
       "    </tr>\n",
       "    <tr>\n",
       "      <td>2</td>\n",
       "      <td>317.6</td>\n",
       "    </tr>\n",
       "    <tr>\n",
       "      <td>3</td>\n",
       "      <td>317.5</td>\n",
       "    </tr>\n",
       "    <tr>\n",
       "      <td>4</td>\n",
       "      <td>316.4</td>\n",
       "    </tr>\n",
       "    <tr>\n",
       "      <td>...</td>\n",
       "      <td>...</td>\n",
       "    </tr>\n",
       "    <tr>\n",
       "      <td>2220</td>\n",
       "      <td>370.3</td>\n",
       "    </tr>\n",
       "    <tr>\n",
       "      <td>2221</td>\n",
       "      <td>370.8</td>\n",
       "    </tr>\n",
       "    <tr>\n",
       "      <td>2222</td>\n",
       "      <td>371.2</td>\n",
       "    </tr>\n",
       "    <tr>\n",
       "      <td>2223</td>\n",
       "      <td>371.3</td>\n",
       "    </tr>\n",
       "    <tr>\n",
       "      <td>2224</td>\n",
       "      <td>371.5</td>\n",
       "    </tr>\n",
       "  </tbody>\n",
       "</table>\n",
       "<p>2225 rows × 1 columns</p>\n",
       "</div>"
      ],
      "text/plain": [
       "        co2\n",
       "0     316.1\n",
       "1     317.3\n",
       "2     317.6\n",
       "3     317.5\n",
       "4     316.4\n",
       "...     ...\n",
       "2220  370.3\n",
       "2221  370.8\n",
       "2222  371.2\n",
       "2223  371.3\n",
       "2224  371.5\n",
       "\n",
       "[2225 rows x 1 columns]"
      ]
     },
     "execution_count": 121,
     "metadata": {},
     "output_type": "execute_result"
    }
   ],
   "source": [
    "target"
   ]
  },
  {
   "cell_type": "code",
   "execution_count": 62,
   "metadata": {},
   "outputs": [
    {
     "data": {
      "text/plain": [
       "co2    340.142247\n",
       "dtype: float64"
      ]
     },
     "execution_count": 62,
     "metadata": {},
     "output_type": "execute_result"
    }
   ],
   "source": [
    "target.mean()"
   ]
  },
  {
   "cell_type": "code",
   "execution_count": 64,
   "metadata": {},
   "outputs": [
    {
     "name": "stdout",
     "output_type": "stream",
     "text": [
      "[1958. 1958. 1958. ... 2001. 2001. 2001.]\n"
     ]
    }
   ],
   "source": [
    "t = feats['year'].to_numpy()\n",
    "print(t)"
   ]
  },
  {
   "cell_type": "markdown",
   "metadata": {},
   "source": [
    "A bit of preprocessing is required to convert this to average monthly counts. Plot the data."
   ]
  },
  {
   "cell_type": "markdown",
   "metadata": {},
   "source": [
    "Now we are going to use the GPy library to fit our time series $(t, y)$ and the way to do this is:"
   ]
  },
  {
   "cell_type": "code",
   "execution_count": 65,
   "metadata": {},
   "outputs": [
    {
     "data": {
      "text/plain": [
       "<paramz.optimization.optimization.opt_lbfgsb at 0x7f2ea5f19e10>"
      ]
     },
     "execution_count": 65,
     "metadata": {},
     "output_type": "execute_result"
    }
   ],
   "source": [
    "import GPy\n",
    "kern = GPy.kern.RBF(1) # define the kernel here\n",
    "yp = y - y.mean() # subtract mean from observed value as we're assuming a zero mean process\n",
    "m = GPy.models.GPRegression(t[:, None], yp[:, None], kern) # define GP regressor\n",
    "m.optimize() # fit"
   ]
  },
  {
   "cell_type": "code",
   "execution_count": 75,
   "metadata": {},
   "outputs": [
    {
     "name": "stdout",
     "output_type": "stream",
     "text": [
      "[[-22.02606742]\n",
      " [-22.02606742]\n",
      " [-22.02606742]\n",
      " ...\n",
      " [ 20.97393258]\n",
      " [ 20.97393258]\n",
      " [ 20.97393258]]\n"
     ]
    }
   ],
   "source": [
    "tp = t - t.mean()\n",
    "print(tp[:, None])"
   ]
  },
  {
   "cell_type": "markdown",
   "metadata": {},
   "source": [
    "This performs a maximum likelihood estimation of the Gaussian process kernel hyperparameters \n",
    "and we can then predict values:"
   ]
  },
  {
   "cell_type": "code",
   "execution_count": 143,
   "metadata": {},
   "outputs": [],
   "source": [
    "# tpred = np.linspace(2002, 2021, 20)\n",
    "tpred = np.linspace(1980,1999,20)\n",
    "# tpredp = tpred - np.concatenate((t,tpred)).mean()\n",
    "ypred = m.predict(tpred[:, None]) # This will return the predicted values at tpred and the predicted error"
   ]
  },
  {
   "cell_type": "code",
   "execution_count": 144,
   "metadata": {},
   "outputs": [
    {
     "data": {
      "text/plain": [
       "(array([[-1.76338534],\n",
       "        [-0.34172268],\n",
       "        [ 1.05667544],\n",
       "        [ 2.48318874],\n",
       "        [ 3.99412721],\n",
       "        [ 5.62263987],\n",
       "        [ 7.35795557],\n",
       "        [ 9.14165572],\n",
       "        [10.88412935],\n",
       "        [12.49616256],\n",
       "        [13.92411281],\n",
       "        [15.17501563],\n",
       "        [16.32118942],\n",
       "        [17.48120877],\n",
       "        [18.78265949],\n",
       "        [20.31860407],\n",
       "        [22.11181615],\n",
       "        [24.09801255],\n",
       "        [26.1328355 ],\n",
       "        [28.01975596]]), array([[3.6524959 ],\n",
       "        [3.65254252],\n",
       "        [3.6526398 ],\n",
       "        [3.65274898],\n",
       "        [3.65282716],\n",
       "        [3.65285345],\n",
       "        [3.65281614],\n",
       "        [3.65271888],\n",
       "        [3.65263937],\n",
       "        [3.65271219],\n",
       "        [3.65294575],\n",
       "        [3.65312654],\n",
       "        [3.6531165 ],\n",
       "        [3.65319987],\n",
       "        [3.65372963],\n",
       "        [3.65436536],\n",
       "        [3.65449195],\n",
       "        [3.65493313],\n",
       "        [3.65744029],\n",
       "        [3.66009   ]]))"
      ]
     },
     "execution_count": 144,
     "metadata": {},
     "output_type": "execute_result"
    }
   ],
   "source": [
    "ypred"
   ]
  },
  {
   "cell_type": "markdown",
   "metadata": {},
   "source": [
    "So we want to model the time series as a combination of:\n",
    "\n",
    "* a long term, smooth rising trend (using an RBF kernel)\n",
    "* a seasonal component with a fixed periodicity of 1 year (using a PeriodicExponential)\n",
    "* smaller, medium term irregularities (using a RationalQuadratic (RatQuad) kernel)\n",
    "* a noise term (consisting of a RBF kernel and a White kernel)\n",
    "\n",
    "Define the component kernels: "
   ]
  },
  {
   "cell_type": "code",
   "execution_count": null,
   "metadata": {},
   "outputs": [],
   "source": [
    "k1 = GPy.kern...."
   ]
  },
  {
   "cell_type": "markdown",
   "metadata": {},
   "source": [
    "And then define the complete kernel:"
   ]
  },
  {
   "cell_type": "code",
   "execution_count": null,
   "metadata": {},
   "outputs": [],
   "source": [
    "k = k1 + ..."
   ]
  },
  {
   "cell_type": "markdown",
   "metadata": {},
   "source": [
    "Now fit it to the data, and then plot the model against the measured data. Extend the plot to 2030 and see what the mode suggests the trend is."
   ]
  },
  {
   "cell_type": "code",
   "execution_count": null,
   "metadata": {},
   "outputs": [],
   "source": []
  }
 ],
 "metadata": {
  "kernelspec": {
   "display_name": "Python 3",
   "language": "python",
   "name": "python3"
  },
  "language_info": {
   "codemirror_mode": {
    "name": "ipython",
    "version": 3
   },
   "file_extension": ".py",
   "mimetype": "text/x-python",
   "name": "python",
   "nbconvert_exporter": "python",
   "pygments_lexer": "ipython3",
   "version": "3.7.4"
  }
 },
 "nbformat": 4,
 "nbformat_minor": 2
}
