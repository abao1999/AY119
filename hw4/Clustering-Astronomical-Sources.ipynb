{
 "cells": [
  {
   "cell_type": "markdown",
   "metadata": {},
   "source": [
    "# Unsupervised Machine Learning Exercise\n",
    "\n",
    "**Lecturer**: Ashish Mahabal<br>\n",
    "**Jupyter Notebook Author**: Umaa Rebbapragada, modified by Ashish Mahabal.\n",
    "\n",
    "This is a Jupyter notebook lesson extending the LSSTC Data Science Fellowship Program (https://ciera.northwestern.edu/programs/lsstc-data-science-fellowship-program/) Nov 2018 edition (session 7) and adapted for the NARIT-EACOA 2019 summer workshop.\n",
    "\n",
    "## Objective\n",
    "\n",
    "* Become familiar with the ZTF data, the examination of some of its features\n",
    "* Cluster a set of candidate sources from the Zwicky Transient Facility's (ZTF) image subtraction pipeline.  All candidate features and postage stamps were extracted from ZTF's public alert stream. \n",
    "* Run sklearn's [KMeans](http://scikit-learn.org/stable/modules/generated/sklearn.cluster.KMeans.html) algorithm on 2 or more features.  \n",
    "\n",
    "## Key steps\n",
    "\n",
    "1. Load data\n",
    "2. Plot Features 'elong' and 'chipsf'\n",
    "3. Run KMeans on 2 Features\n",
    "4. Feature Scaling\n",
    "4. Evaluation Results Quantitatively\n",
    "5. Evaluate Results by Examining Postage Stamps\n",
    "6. Clustering in a Dimensionally-Reduced Space\n",
    "\n",
    "\n",
    "## Required dependencies\n",
    "\n",
    "Nominally, you should be able to install the python modules with `pip install <module>`.  The external astromatic packages are easiest installed using package managers (e.g., `rpm`, `apt-get`).\n",
    "\n",
    "### Python modules\n",
    "* python 3\n",
    "* astropy\n",
    "* numpy\n",
    "* matplotlib\n",
    "* scikit-learn\n",
    "\n",
    "### External packages\n",
    "None"
   ]
  },
  {
   "cell_type": "markdown",
   "metadata": {},
   "source": [
    "### 0a. Imports\n",
    "\n",
    "These are all the imports that will be used in this notebook.  All should be available in the DSFP conda environment."
   ]
  },
  {
   "cell_type": "code",
   "execution_count": 1,
   "metadata": {},
   "outputs": [],
   "source": [
    "%matplotlib inline\n",
    "import numpy as np\n",
    "import matplotlib.pyplot as plt\n",
    "import glob\n",
    "import os\n",
    "from time import time\n",
    "from matplotlib.pyplot import imshow\n",
    "from matplotlib.image import imread\n",
    "from sklearn.cluster import KMeans\n",
    "from sklearn.preprocessing import MinMaxScaler, StandardScaler\n",
    "from sklearn import metrics\n",
    "from sklearn.metrics.pairwise import euclidean_distances"
   ]
  },
  {
   "cell_type": "markdown",
   "metadata": {},
   "source": [
    "### 0b. Data Location\n",
    "\n",
    "You will need the following files in a subdir called data:\n",
    "- dsfp_ztf_meta.npy\n",
    "- dsfp_ztf_feats.npy\n",
    "- dsfp_ztf_png_stamps.tgz\n",
    "\n",
    "You will need to unzip and unpack this last file (a \"tarball\") called `dsfp_ztf_png_stamps.tar.gz`. Run the following commands in the data subdirectory of this notebook to unpack the png stamps:\n",
    "\n",
    " - tar -xzvf dsfp_ztf_png_stamps.tgz\n",
    " \n",
    "You should now have a subdirectory in your data directory called dsfp_ztf_png_stamps.\n",
    "\n",
    "Please specify the following file locations:"
   ]
  },
  {
   "cell_type": "code",
   "execution_count": 2,
   "metadata": {},
   "outputs": [],
   "source": [
    "F_META = 'data/dsfp_ztf_meta.npy'\n",
    "F_FEATS = 'data/dsfp_ztf_feats.npy'\n",
    "D_STAMPS = 'data/dsfp_ztf_png_stamps.tgz'"
   ]
  },
  {
   "cell_type": "markdown",
   "metadata": {},
   "source": [
    "\n",
    "## 1. Load Data\n",
    "\n",
    "We are ready to get started! :)  Start by loading the data and confirming that feats has the same number of columns as COL_NAMES.  Please note that the last columns is a class label with values {0, 1}, where 0=bogus, and 1=real.  Today we are doing unsupervised learning, but some clustering evaluation methods use labels to quantitatively measure the quality of the clustering result."
   ]
  },
  {
   "cell_type": "code",
   "execution_count": 3,
   "metadata": {},
   "outputs": [
    {
     "name": "stdout",
     "output_type": "stream",
     "text": [
      "(3190, 36)\n",
      "36\n"
     ]
    }
   ],
   "source": [
    "meta = np.load(F_META, allow_pickle=True)\n",
    "feats = np.load(F_FEATS, allow_pickle=True)\n",
    "\n",
    "COL_NAMES = ['diffmaglim', 'magpsf', 'sigmapsf', 'chipsf', 'magap', 'sigmagap',\n",
    "             'distnr', 'magnr', 'sigmagnr', 'chinr', 'sharpnr', 'sky',\n",
    "             'magdiff', 'fwhm', 'classtar', 'mindtoedge', 'magfromlim', 'seeratio',\n",
    "             'aimage', 'bimage', 'aimagerat', 'bimagerat', 'elong', 'nneg',\n",
    "             'nbad', 'ssdistnr', 'ssmagnr', 'sumrat', 'magapbig', 'sigmagapbig',\n",
    "             'ndethist', 'ncovhist', 'jdstarthist', 'jdendhist', 'scorr', 'label']\n",
    "             \n",
    "# INSTRUCTION: Verify that feats has the same number of columns as COL_NAMES\n",
    "print(feats.shape)\n",
    "print(len(COL_NAMES))"
   ]
  },
  {
   "cell_type": "markdown",
   "metadata": {},
   "source": [
    "## 2. Plot Features\n",
    "\n",
    "We will perform K-means clustering using two features: 'chipsf' and 'elong'.  Chipsf is the uncertainty associated with performing PSF-fit photometry.  The higher the chi values, the more uncertainty associated with the source's PSF fit. Elong is a measure of how elongated the source is.  A transient point source should have a spherical point spread function.  An elongated point source may be a sign of a problem with image subtraction.\n",
    "\n",
    "Extract features chipsf and along from the data.  Scatter plot them together, and also plot their histograms.  \n",
    "\n",
    "#### Question: What do you notice about these features?\n"
   ]
  },
  {
   "cell_type": "code",
   "execution_count": 4,
   "metadata": {},
   "outputs": [],
   "source": [
    "featnames_to_select = ['chipsf', 'elong']\n",
    "\n",
    "# Extract the Correct Features\n",
    "# \n",
    "featidxs_to_select_indices = [ COL_NAMES.index(x) for x in featnames_to_select]\n",
    "feats_selected = feats[:,featidxs_to_select_indices]\n",
    "\n",
    "# Scatter Plot the Two Features\n",
    "#\n",
    "def plot_scatter(dat, xlabel, ylabel, xscale='linear', yscale='linear'):\n",
    "    plt.plot(dat[:,0], dat[:,1], 'k.')\n",
    "    plt.xlabel(xlabel)\n",
    "    plt.ylabel(ylabel)\n",
    "    plt.xscale(xscale)\n",
    "    plt.yscale(yscale)\n",
    "    plt.show()\n",
    "    \n",
    "# Scatter Plot the Two Features\n",
    "#\n",
    "def plot_histogram(dat, bins, title, xscale='linear', yscale='linear'):\n",
    "    plt.hist(dat, bins)\n",
    "    plt.xscale(xscale)\n",
    "    plt.yscale(yscale)\n",
    "    plt.title(title)\n",
    "    plt.show()\n",
    "\n",
    "# INSTRUCTION: Scatter Plot the Data\n",
    "# \n",
    "\n",
    "# INSTRUCTION: Plot the Histograms for both features.  Hint, it may be helpful to plot some features on a log scale.\n",
    "# "
   ]
  },
  {
   "cell_type": "code",
   "execution_count": 5,
   "metadata": {},
   "outputs": [
    {
     "data": {
      "text/plain": [
       "(3190, 2)"
      ]
     },
     "execution_count": 5,
     "metadata": {},
     "output_type": "execute_result"
    }
   ],
   "source": [
    "feats_selected.shape"
   ]
  },
  {
   "cell_type": "code",
   "execution_count": 6,
   "metadata": {},
   "outputs": [
    {
     "data": {
      "image/png": "[encoded data removed]",
      "text/plain": [
       "<Figure size 432x288 with 1 Axes>"
      ]
     },
     "metadata": {
      "needs_background": "light"
     },
     "output_type": "display_data"
    }
   ],
   "source": [
    "plot_scatter(feats_selected, featnames_to_select[0], featnames_to_select[1], xscale='log', yscale='log')"
   ]
  },
  {
   "cell_type": "code",
   "execution_count": 7,
   "metadata": {},
   "outputs": [
    {
     "data": {
      "image/png": "[encoded data removed]",
      "text/plain": [
       "<Figure size 432x288 with 1 Axes>"
      ]
     },
     "metadata": {
      "needs_background": "light"
     },
     "output_type": "display_data"
    }
   ],
   "source": [
    "plot_histogram(feats_selected, 500, 'hi', xscale='log', yscale='log')"
   ]
  },
  {
   "cell_type": "markdown",
   "metadata": {},
   "source": [
    "## 3. KMeans Using Two Features\n",
    "\n",
    "We rarely ever cluster only two features from a dataset.  However, the advantage of doing so is that we can readily visualize two-dimensional data.  Let's start off by clustering features elong and chipsf with KMeans.  The plotKMeans function below implements a visualization of KMean's partitioning that was used in sklearn's [KMean's demo](http://scikit-learn.org/stable/auto_examples/cluster/plot_kmeans_digits.html).  \n",
    "\n",
    "#### Question: What do you think about the quality of the clusterings produced?"
   ]
  },
  {
   "cell_type": "code",
   "execution_count": 8,
   "metadata": {},
   "outputs": [],
   "source": [
    "\n",
    "def runKMeans(dat, n_clusters=2, seed=0):\n",
    "        return KMeans(n_clusters, random_state=seed).fit(dat) \n",
    "\n",
    "def plotKMeans(kmeans_res, reduced_dat, xlabel, ylabel, xscale='linear', yscale='linear'):\n",
    "    \n",
    "    # Plot the decision boundary. For that, we will assign a color to each\n",
    "    h = .02     # point in the mesh [x_min, x_max]x[y_min, y_max].\n",
    "    x_min, x_max = reduced_dat[:, 0].min() - 1, reduced_dat[:, 0].max() + 1\n",
    "    y_min, y_max = reduced_dat[:, 1].min() - 1, reduced_dat[:, 1].max() + 1\n",
    "    xx, yy = np.meshgrid(np.arange(x_min, x_max, h), np.arange(y_min, y_max, h))\n",
    "    # Obtain labels for each point in mesh. Use last trained model.\n",
    "    Z = kmeans_res.predict(np.c_[xx.ravel(), yy.ravel()])\n",
    "\n",
    "    # Put the result into a color plot\n",
    "    Z = Z.reshape(xx.shape)\n",
    "    plt.imshow(Z, interpolation='nearest',\n",
    "               extent=(xx.min(), xx.max(), yy.min(), yy.max()),\n",
    "               cmap=plt.cm.Paired,\n",
    "               aspect='auto', origin='lower')\n",
    "    plt.plot(reduced_dat[:,0], reduced_dat[:,1], 'k.')\n",
    "    plt.scatter(kmeans_res.cluster_centers_[:, 0], kmeans_res.cluster_centers_[:, 1],\n",
    "                marker='x', s=169, linewidths=3,\n",
    "                color='w', zorder=10)\n",
    "    plt.xlabel(xlabel)\n",
    "    plt.ylabel(ylabel)\n",
    "    plt.xscale(xscale)\n",
    "    plt.yscale(yscale)\n",
    "    plt.show()\n",
    "\n",
    "# INSTRUCTION: Use the runKMeans and plotKMeans functions to cluster the data (feats_selected)\n",
    "# with several values of k.  \n"
   ]
  },
  {
   "cell_type": "code",
   "execution_count": 9,
   "metadata": {},
   "outputs": [],
   "source": [
    "km = runKMeans(feats_selected, n_clusters=2)"
   ]
  },
  {
   "cell_type": "code",
   "execution_count": 10,
   "metadata": {},
   "outputs": [
    {
     "data": {
      "image/png": "[encoded data removed]",
      "text/plain": [
       "<Figure size 432x288 with 1 Axes>"
      ]
     },
     "metadata": {
      "needs_background": "light"
     },
     "output_type": "display_data"
    }
   ],
   "source": [
    "plotKMeans(km, feats_selected, featnames_to_select[0], featnames_to_select[1], xscale='linear', yscale='log')"
   ]
  },
  {
   "cell_type": "markdown",
   "metadata": {},
   "source": [
    "# 4. Feature Scaling\n",
    "\n",
    "We just discovered that distance metrics can be sensitive to the scale of your data (e.g., some features span large numeric ranges, but others don't).  For machine learning methods that calculate similiarty between feature vectors, it is important to normalize data within a standard range such as (0, 1) or with z-score normalization (scaling to unit mean and variance).  Fortunately, sklearn also makes this quite easy.  Please review sklearn's [preprocessing](http://scikit-learn.org/stable/modules/classes.html#module-sklearn.preprocessing) module options, specifically StandardScaler which corresponds to z-score normalization and MinMaxScaler.  Please implement one. \n",
    "\n",
    "After your data has been scaled, scatter plot your rescaled features, and run KMeans with the transformed data.  Compare the results on the transformed data with those above."
   ]
  },
  {
   "cell_type": "code",
   "execution_count": 11,
   "metadata": {},
   "outputs": [
    {
     "name": "stdout",
     "output_type": "stream",
     "text": [
      "StandardScaler mean:  [29.17139194  1.2778018 ]\n",
      "[[-0.15462825  0.45113606]\n",
      " [-0.15113507 -0.38585621]\n",
      " [-0.15081031  0.67781585]\n",
      " ...\n",
      " [-0.12614616 -0.46078562]\n",
      " [-0.14752673 -0.44320945]\n",
      " [-0.13731101 -0.70536211]]\n"
     ]
    },
    {
     "data": {
      "image/png": "[encoded data removed]",
      "text/plain": [
       "<Figure size 432x288 with 1 Axes>"
      ]
     },
     "metadata": {
      "needs_background": "light"
     },
     "output_type": "display_data"
    },
    {
     "data": {
      "image/png": "[encoded data removed]",
      "text/plain": [
       "<Figure size 432x288 with 1 Axes>"
      ]
     },
     "metadata": {
      "needs_background": "light"
     },
     "output_type": "display_data"
    }
   ],
   "source": [
    "# INSTRUCTION: Re-scale your data using either the MinMaxScaler or StandardScaler from sklearn\n",
    "#\n",
    "\n",
    "from sklearn.preprocessing import StandardScaler\n",
    "\n",
    "scaler = StandardScaler()\n",
    "feats_selected_scaled = scaler.fit_transform(feats_selected)\n",
    "print(\"StandardScaler mean: \", scaler.mean_)\n",
    "print(feats_selected_scaled)\n",
    "\n",
    "# INSTRUCTION: Scatter plot your rescaled data\n",
    "#\n",
    "\n",
    "plot_scatter(feats_selected_scaled, featnames_to_select[0], featnames_to_select[1], xscale='log', yscale='log')\n",
    "\n",
    "# INSTRUCTION: Retry KMeans with the same values of k used above.\n",
    "#\n",
    "\n",
    "km = runKMeans(feats_selected_scaled, n_clusters=2)\n",
    "plotKMeans(km, feats_selected_scaled, featnames_to_select[0], featnames_to_select[1], xscale='log', yscale='log')"
   ]
  },
  {
   "cell_type": "markdown",
   "metadata": {},
   "source": [
    "# 5. Quantitative Cluster Evaluation\n",
    "\n",
    "So far, we've been visually verifying our clusters.  Let's use quantitative methods to verify our results. \n",
    "\n",
    "The following is a score that does not require labels:\n",
    "- inertia: \"Sum of squared distances of samples to their closest cluster center.\"\n",
    "- Silhouette coefficient: Measures minimal inertia in ratio to distance to next nearest cluster.  The score is higher are clusters become more compact and well-separated.\n",
    "\n",
    "The following scores do require labels, and are documented [here](http://scikit-learn.org/stable/modules/clustering.html#clustering-evaluation).\n",
    "\n",
    "- ARI, AMI measure the similarity between ground_truth labels and predicted_labels.  ARI measure similarity, and AMI measures in terms of mutual information. Random assignments score close to 0, correct assignments close to 1.\n",
    "- homogeneity: purity of the cluster (did all cluster members have the same label?). Scores in [0,1] where 0 is bad.\n",
    "- completeness: did all labels cluster together in a single cluster? Scores in [0,1] where 0 is bad.\n"
   ]
  },
  {
   "cell_type": "code",
   "execution_count": 12,
   "metadata": {},
   "outputs": [
    {
     "name": "stdout",
     "output_type": "stream",
     "text": [
      "(3190,)\n"
     ]
    }
   ],
   "source": [
    "# extract labels\n",
    "label_idxs = COL_NAMES.index('label')\n",
    "feat_labels = feats[:,label_idxs]\n",
    "\n",
    "print(feat_labels.shape)"
   ]
  },
  {
   "cell_type": "code",
   "execution_count": 13,
   "metadata": {},
   "outputs": [
    {
     "name": "stdout",
     "output_type": "stream",
     "text": [
      "__________________________________________________________________________________\n",
      "init\t\ttime\tinertia\thomo\tcompl\tv-meas\tARI\tAMI\tsilhouette\n"
     ]
    }
   ],
   "source": [
    "sample_size = 300\n",
    "\n",
    "def bench_k_means(estimator, name, data, labels):\n",
    "    t0 = time()\n",
    "    estimator.fit(data)\n",
    "    print('%-9s\\t%.2fs\\t%i\\t%.3f\\t%.3f\\t%.3f\\t%.3f\\t%.3f\\t%.3f'\n",
    "          % (name, (time() - t0), estimator.inertia_,\n",
    "             metrics.homogeneity_score(labels, estimator.labels_),\n",
    "             metrics.completeness_score(labels, estimator.labels_),\n",
    "             metrics.v_measure_score(labels, estimator.labels_),\n",
    "             metrics.adjusted_rand_score(labels, estimator.labels_),\n",
    "             metrics.adjusted_mutual_info_score(labels,  estimator.labels_),\n",
    "             metrics.silhouette_score(data, estimator.labels_,\n",
    "                                      metric='euclidean',\n",
    "                                      sample_size=sample_size)))\n",
    "\n",
    "labels = feats[:,-1]\n",
    "print(82 * '_')\n",
    "print('init\\t\\ttime\\tinertia\\thomo\\tcompl\\tv-meas\\tARI\\tAMI\\tsilhouette')\n",
    "\n",
    "# INSTRUCTIONS: Use the bench_k_means method to compare your clustering results\n",
    "#\n"
   ]
  },
  {
   "cell_type": "code",
   "execution_count": 14,
   "metadata": {},
   "outputs": [
    {
     "name": "stdout",
     "output_type": "stream",
     "text": [
      "kmeans   \t0.17s\t4047\t0.109\t0.111\t0.110\t-0.058\t0.110\t0.630\n"
     ]
    }
   ],
   "source": [
    "bench_k_means(km, 'kmeans', feats_selected_scaled, feat_labels)"
   ]
  },
  {
   "cell_type": "markdown",
   "metadata": {},
   "source": [
    "# 6.  Cluster Evaluation by Visual Inspection\n",
    "\n",
    "## This time with postage stamps!\n",
    "\n",
    "It can be tempting to let yourself be guided by metrics alone, and the metrics are useful guideposts that can help determine whether you're moving in the right direction.  However, the goal of clustering is to reveal structure in your dataset.  Fortunately, because the features were extracted from sources that were extracted from images, we can view the cutouts from each source to visually verify whether our clusters contain homogeneous objects.  \n",
    "\n",
    "The display methods below give you an opportunity to display random candidates from each cluster, or the candidates that are closest to the cluster center."
   ]
  },
  {
   "cell_type": "code",
   "execution_count": 23,
   "metadata": {},
   "outputs": [],
   "source": [
    "\n",
    "def display_stamps(candids, fig_title):\n",
    "    \n",
    "    # display five across\n",
    "    num_per_row = 5\n",
    "    \n",
    "    for i, candid in enumerate(candids):\n",
    "        f_stamp = glob.glob(os.path.join(D_STAMPS, 'candid{}*.png'.format(candid)))[0] # there should only be one file returned!\n",
    "        if (i % num_per_row) == 0:\n",
    "            fig = plt.figure(figsize=(18, 3))\n",
    "            fig.suptitle(fig_title)        \n",
    "\n",
    "        ax = fig.add_subplot(1, num_per_row, i%num_per_row + 1)\n",
    "        ax.set_axis_off()\n",
    "        ax.set_title(candid)\n",
    "        stamp = imread(f_stamp)\n",
    "        imshow(stamp)\n",
    "    return\n",
    "\n",
    "def closest_to_centroid(centroid, cluster_feats, cluster_candids):\n",
    "    \n",
    "    dists = euclidean_distances(cluster_feats, centroid.reshape(1, -1))[:,0]\n",
    "    closest_indices = np.argsort(dists)[:10]\n",
    "    return cluster_candids[closest_indices]\n",
    "\n",
    "def show_cluster_stamps(kmeans_res, displayMode='closest', num_to_display=10):\n",
    "    # spits out a random selection of stamps from each cluster\n",
    "    \n",
    "    \n",
    "    for i in range(kmeans_res.n_clusters):\n",
    "        centroid = kmeans_res.cluster_centers_[i, :]\n",
    "        mask = kmeans_res.labels_ == i\n",
    "        cluster_candids = meta[mask]['candid']\n",
    "        cluster_feats = feats_selected_scaled[mask]\n",
    "        if displayMode == 'near_centroid':\n",
    "            selected_candids = closest_to_centroid(centroid, cluster_feats, cluster_candids)\n",
    "        if displayMode == 'random':\n",
    "            np.random.shuffle(cluster_candids)\n",
    "            selected_candids = cluster_candids[:num_to_display]\n",
    "        display_stamps(selected_candids, 'Cluster {}'.format(i))\n",
    "\n",
    "# INSTRUCTION: Use the show_cluster_stamps method to display cutouts associated with each cluster.\n",
    "# Do you see similar objects in each cluster?\n",
    "#\n"
   ]
  },
  {
   "cell_type": "code",
   "execution_count": 27,
   "metadata": {},
   "outputs": [
    {
     "ename": "IndexError",
     "evalue": "list index out of range",
     "output_type": "error",
     "traceback": [
      "\u001b[0;31m---------------------------------------------------------------------------\u001b[0m",
      "\u001b[0;31mIndexError\u001b[0m                                Traceback (most recent call last)",
      "\u001b[0;32m<ipython-input-27-1c64be7cda53>\u001b[0m in \u001b[0;36m<module>\u001b[0;34m\u001b[0m\n\u001b[0;32m----> 1\u001b[0;31m \u001b[0mshow_cluster_stamps\u001b[0m\u001b[0;34m(\u001b[0m\u001b[0mkm\u001b[0m\u001b[0;34m,\u001b[0m \u001b[0mdisplayMode\u001b[0m\u001b[0;34m=\u001b[0m\u001b[0;34m'near_centroid'\u001b[0m\u001b[0;34m,\u001b[0m \u001b[0mnum_to_display\u001b[0m\u001b[0;34m=\u001b[0m\u001b[0;36m10\u001b[0m\u001b[0;34m)\u001b[0m\u001b[0;34m\u001b[0m\u001b[0;34m\u001b[0m\u001b[0m\n\u001b[0m",
      "\u001b[0;32m<ipython-input-23-9b3778048a23>\u001b[0m in \u001b[0;36mshow_cluster_stamps\u001b[0;34m(kmeans_res, displayMode, num_to_display)\u001b[0m\n\u001b[1;32m     38\u001b[0m             \u001b[0mnp\u001b[0m\u001b[0;34m.\u001b[0m\u001b[0mrandom\u001b[0m\u001b[0;34m.\u001b[0m\u001b[0mshuffle\u001b[0m\u001b[0;34m(\u001b[0m\u001b[0mcluster_candids\u001b[0m\u001b[0;34m)\u001b[0m\u001b[0;34m\u001b[0m\u001b[0;34m\u001b[0m\u001b[0m\n\u001b[1;32m     39\u001b[0m             \u001b[0mselected_candids\u001b[0m \u001b[0;34m=\u001b[0m \u001b[0mcluster_candids\u001b[0m\u001b[0;34m[\u001b[0m\u001b[0;34m:\u001b[0m\u001b[0mnum_to_display\u001b[0m\u001b[0;34m]\u001b[0m\u001b[0;34m\u001b[0m\u001b[0;34m\u001b[0m\u001b[0m\n\u001b[0;32m---> 40\u001b[0;31m         \u001b[0mdisplay_stamps\u001b[0m\u001b[0;34m(\u001b[0m\u001b[0mselected_candids\u001b[0m\u001b[0;34m,\u001b[0m \u001b[0;34m'Cluster {}'\u001b[0m\u001b[0;34m.\u001b[0m\u001b[0mformat\u001b[0m\u001b[0;34m(\u001b[0m\u001b[0mi\u001b[0m\u001b[0;34m)\u001b[0m\u001b[0;34m)\u001b[0m\u001b[0;34m\u001b[0m\u001b[0;34m\u001b[0m\u001b[0m\n\u001b[0m\u001b[1;32m     41\u001b[0m \u001b[0;34m\u001b[0m\u001b[0m\n\u001b[1;32m     42\u001b[0m \u001b[0;31m# INSTRUCTION: Use the show_cluster_stamps method to display cutouts associated with each cluster.\u001b[0m\u001b[0;34m\u001b[0m\u001b[0;34m\u001b[0m\u001b[0;34m\u001b[0m\u001b[0m\n",
      "\u001b[0;32m<ipython-input-23-9b3778048a23>\u001b[0m in \u001b[0;36mdisplay_stamps\u001b[0;34m(candids, fig_title)\u001b[0m\n\u001b[1;32m      5\u001b[0m \u001b[0;34m\u001b[0m\u001b[0m\n\u001b[1;32m      6\u001b[0m     \u001b[0;32mfor\u001b[0m \u001b[0mi\u001b[0m\u001b[0;34m,\u001b[0m \u001b[0mcandid\u001b[0m \u001b[0;32min\u001b[0m \u001b[0menumerate\u001b[0m\u001b[0;34m(\u001b[0m\u001b[0mcandids\u001b[0m\u001b[0;34m)\u001b[0m\u001b[0;34m:\u001b[0m\u001b[0;34m\u001b[0m\u001b[0;34m\u001b[0m\u001b[0m\n\u001b[0;32m----> 7\u001b[0;31m         \u001b[0mf_stamp\u001b[0m \u001b[0;34m=\u001b[0m \u001b[0mglob\u001b[0m\u001b[0;34m.\u001b[0m\u001b[0mglob\u001b[0m\u001b[0;34m(\u001b[0m\u001b[0mos\u001b[0m\u001b[0;34m.\u001b[0m\u001b[0mpath\u001b[0m\u001b[0;34m.\u001b[0m\u001b[0mjoin\u001b[0m\u001b[0;34m(\u001b[0m\u001b[0mD_STAMPS\u001b[0m\u001b[0;34m,\u001b[0m \u001b[0;34m'candid{}*.png'\u001b[0m\u001b[0;34m.\u001b[0m\u001b[0mformat\u001b[0m\u001b[0;34m(\u001b[0m\u001b[0mcandid\u001b[0m\u001b[0;34m)\u001b[0m\u001b[0;34m)\u001b[0m\u001b[0;34m)\u001b[0m\u001b[0;34m[\u001b[0m\u001b[0;36m0\u001b[0m\u001b[0;34m]\u001b[0m \u001b[0;31m# there should only be one file returned!\u001b[0m\u001b[0;34m\u001b[0m\u001b[0;34m\u001b[0m\u001b[0m\n\u001b[0m\u001b[1;32m      8\u001b[0m         \u001b[0;32mif\u001b[0m \u001b[0;34m(\u001b[0m\u001b[0mi\u001b[0m \u001b[0;34m%\u001b[0m \u001b[0mnum_per_row\u001b[0m\u001b[0;34m)\u001b[0m \u001b[0;34m==\u001b[0m \u001b[0;36m0\u001b[0m\u001b[0;34m:\u001b[0m\u001b[0;34m\u001b[0m\u001b[0;34m\u001b[0m\u001b[0m\n\u001b[1;32m      9\u001b[0m             \u001b[0mfig\u001b[0m \u001b[0;34m=\u001b[0m \u001b[0mplt\u001b[0m\u001b[0;34m.\u001b[0m\u001b[0mfigure\u001b[0m\u001b[0;34m(\u001b[0m\u001b[0mfigsize\u001b[0m\u001b[0;34m=\u001b[0m\u001b[0;34m(\u001b[0m\u001b[0;36m18\u001b[0m\u001b[0;34m,\u001b[0m \u001b[0;36m3\u001b[0m\u001b[0;34m)\u001b[0m\u001b[0;34m)\u001b[0m\u001b[0;34m\u001b[0m\u001b[0;34m\u001b[0m\u001b[0m\n",
      "\u001b[0;31mIndexError\u001b[0m: list index out of range"
     ]
    }
   ],
   "source": [
    "show_cluster_stamps(km, displayMode='near_centroid', num_to_display=10)"
   ]
  },
  {
   "cell_type": "markdown",
   "metadata": {},
   "source": [
    "# 7.  Clustering in a Dimensionally-Reduced Space\n",
    "\n",
    "Given the tools seen above, starting clustering more than 2 features at a time.  This work is free-form.  I'll start you off with some suggested features.  After plotting the feature distributions, you may choose to down-select further.\n",
    "\n",
    "Because we're now working with more than 2 features, use PCA to project the feature space onto its first two principal components.  You may use the methods above to run KMeans in that reduced feature space and evaluate your results."
   ]
  },
  {
   "cell_type": "code",
   "execution_count": 28,
   "metadata": {},
   "outputs": [],
   "source": [
    "featnames_to_select = ['chipsf', 'elong', 'diffmaglim', 'magpsf', 'sigmapsf', \n",
    "                       'chipsf', 'magap', 'sigmagap', 'sky', 'magdiff', 'fwhm', \n",
    "                       'mindtoedge', 'magfromlim', 'seeratio', 'aimage', 'bimage',\n",
    "                       'aimagerat', 'bimagerat', 'elong', 'nneg', 'nbad', 'sumrat', 'magapbig', 'sigmagapbig']\n",
    "\n",
    "# INSTRUCTION: Visualize these features.  Discard any you consider to be problematic.\n",
    "\n",
    "# INSTRUCTION: Filter the feature space\n",
    "\n",
    "# INSTRUCTION: Run PCA on this feature space to reduce it to 2 principal components\n",
    "\n",
    "# INSTRUCTION: Run KMeans on this 2-dimensional PCA space, and evaluate your results both quantatively and qualitatively."
   ]
  },
  {
   "cell_type": "code",
   "execution_count": 38,
   "metadata": {},
   "outputs": [
    {
     "data": {
      "text/html": [
       "<div>\n",
       "<style scoped>\n",
       "    .dataframe tbody tr th:only-of-type {\n",
       "        vertical-align: middle;\n",
       "    }\n",
       "\n",
       "    .dataframe tbody tr th {\n",
       "        vertical-align: top;\n",
       "    }\n",
       "\n",
       "    .dataframe thead th {\n",
       "        text-align: right;\n",
       "    }\n",
       "</style>\n",
       "<table border=\"1\" class=\"dataframe\">\n",
       "  <thead>\n",
       "    <tr style=\"text-align: right;\">\n",
       "      <th></th>\n",
       "      <th>diffmaglim</th>\n",
       "      <th>magpsf</th>\n",
       "      <th>sigmapsf</th>\n",
       "      <th>chipsf</th>\n",
       "      <th>magap</th>\n",
       "      <th>sigmagap</th>\n",
       "      <th>distnr</th>\n",
       "      <th>magnr</th>\n",
       "      <th>sigmagnr</th>\n",
       "      <th>chinr</th>\n",
       "      <th>...</th>\n",
       "      <th>ssmagnr</th>\n",
       "      <th>sumrat</th>\n",
       "      <th>magapbig</th>\n",
       "      <th>sigmagapbig</th>\n",
       "      <th>ndethist</th>\n",
       "      <th>ncovhist</th>\n",
       "      <th>jdstarthist</th>\n",
       "      <th>jdendhist</th>\n",
       "      <th>scorr</th>\n",
       "      <th>label</th>\n",
       "    </tr>\n",
       "  </thead>\n",
       "  <tbody>\n",
       "    <tr>\n",
       "      <td>0</td>\n",
       "      <td>17.281851</td>\n",
       "      <td>17.551567</td>\n",
       "      <td>0.165697</td>\n",
       "      <td>0.617023</td>\n",
       "      <td>17.300800</td>\n",
       "      <td>0.2021</td>\n",
       "      <td>-999.000000</td>\n",
       "      <td>-999.000000</td>\n",
       "      <td>-999.000</td>\n",
       "      <td>-999.000</td>\n",
       "      <td>...</td>\n",
       "      <td>-999.0</td>\n",
       "      <td>0.809352</td>\n",
       "      <td>16.575399</td>\n",
       "      <td>0.2297</td>\n",
       "      <td>1.0</td>\n",
       "      <td>54.0</td>\n",
       "      <td>2.458215e+06</td>\n",
       "      <td>2.458215e+06</td>\n",
       "      <td>5.223946</td>\n",
       "      <td>0.0</td>\n",
       "    </tr>\n",
       "    <tr>\n",
       "      <td>1</td>\n",
       "      <td>20.320570</td>\n",
       "      <td>20.802053</td>\n",
       "      <td>0.195894</td>\n",
       "      <td>1.262091</td>\n",
       "      <td>20.366100</td>\n",
       "      <td>0.2053</td>\n",
       "      <td>8.082719</td>\n",
       "      <td>23.323999</td>\n",
       "      <td>0.351</td>\n",
       "      <td>0.744</td>\n",
       "      <td>...</td>\n",
       "      <td>-999.0</td>\n",
       "      <td>1.000000</td>\n",
       "      <td>19.654600</td>\n",
       "      <td>0.2366</td>\n",
       "      <td>1.0</td>\n",
       "      <td>60.0</td>\n",
       "      <td>2.458220e+06</td>\n",
       "      <td>2.458220e+06</td>\n",
       "      <td>5.518701</td>\n",
       "      <td>0.0</td>\n",
       "    </tr>\n",
       "    <tr>\n",
       "      <td>2</td>\n",
       "      <td>20.427725</td>\n",
       "      <td>20.922333</td>\n",
       "      <td>0.200625</td>\n",
       "      <td>1.322061</td>\n",
       "      <td>20.233700</td>\n",
       "      <td>0.1664</td>\n",
       "      <td>9.313808</td>\n",
       "      <td>23.226999</td>\n",
       "      <td>0.332</td>\n",
       "      <td>0.681</td>\n",
       "      <td>...</td>\n",
       "      <td>-999.0</td>\n",
       "      <td>1.000000</td>\n",
       "      <td>19.508101</td>\n",
       "      <td>0.1896</td>\n",
       "      <td>1.0</td>\n",
       "      <td>51.0</td>\n",
       "      <td>2.458220e+06</td>\n",
       "      <td>2.458220e+06</td>\n",
       "      <td>5.856411</td>\n",
       "      <td>0.0</td>\n",
       "    </tr>\n",
       "    <tr>\n",
       "      <td>3</td>\n",
       "      <td>20.427725</td>\n",
       "      <td>20.703472</td>\n",
       "      <td>0.172896</td>\n",
       "      <td>1.431551</td>\n",
       "      <td>20.347000</td>\n",
       "      <td>0.1857</td>\n",
       "      <td>3.687793</td>\n",
       "      <td>20.256001</td>\n",
       "      <td>0.065</td>\n",
       "      <td>2.594</td>\n",
       "      <td>...</td>\n",
       "      <td>-999.0</td>\n",
       "      <td>0.988251</td>\n",
       "      <td>19.627600</td>\n",
       "      <td>0.2118</td>\n",
       "      <td>1.0</td>\n",
       "      <td>51.0</td>\n",
       "      <td>2.458220e+06</td>\n",
       "      <td>2.458220e+06</td>\n",
       "      <td>5.573197</td>\n",
       "      <td>0.0</td>\n",
       "    </tr>\n",
       "    <tr>\n",
       "      <td>4</td>\n",
       "      <td>20.427725</td>\n",
       "      <td>20.704222</td>\n",
       "      <td>0.171942</td>\n",
       "      <td>1.341425</td>\n",
       "      <td>20.474501</td>\n",
       "      <td>0.2077</td>\n",
       "      <td>3.520936</td>\n",
       "      <td>21.767000</td>\n",
       "      <td>0.097</td>\n",
       "      <td>0.903</td>\n",
       "      <td>...</td>\n",
       "      <td>-999.0</td>\n",
       "      <td>0.938757</td>\n",
       "      <td>19.993799</td>\n",
       "      <td>0.2958</td>\n",
       "      <td>1.0</td>\n",
       "      <td>51.0</td>\n",
       "      <td>2.458220e+06</td>\n",
       "      <td>2.458220e+06</td>\n",
       "      <td>6.145004</td>\n",
       "      <td>0.0</td>\n",
       "    </tr>\n",
       "    <tr>\n",
       "      <td>...</td>\n",
       "      <td>...</td>\n",
       "      <td>...</td>\n",
       "      <td>...</td>\n",
       "      <td>...</td>\n",
       "      <td>...</td>\n",
       "      <td>...</td>\n",
       "      <td>...</td>\n",
       "      <td>...</td>\n",
       "      <td>...</td>\n",
       "      <td>...</td>\n",
       "      <td>...</td>\n",
       "      <td>...</td>\n",
       "      <td>...</td>\n",
       "      <td>...</td>\n",
       "      <td>...</td>\n",
       "      <td>...</td>\n",
       "      <td>...</td>\n",
       "      <td>...</td>\n",
       "      <td>...</td>\n",
       "      <td>...</td>\n",
       "      <td>...</td>\n",
       "    </tr>\n",
       "    <tr>\n",
       "      <td>3185</td>\n",
       "      <td>20.448118</td>\n",
       "      <td>17.893902</td>\n",
       "      <td>0.137054</td>\n",
       "      <td>17.172440</td>\n",
       "      <td>17.895201</td>\n",
       "      <td>0.0504</td>\n",
       "      <td>0.317832</td>\n",
       "      <td>15.811000</td>\n",
       "      <td>0.019</td>\n",
       "      <td>1.046</td>\n",
       "      <td>...</td>\n",
       "      <td>-999.0</td>\n",
       "      <td>0.962659</td>\n",
       "      <td>17.888500</td>\n",
       "      <td>0.0588</td>\n",
       "      <td>12.0</td>\n",
       "      <td>67.0</td>\n",
       "      <td>2.458309e+06</td>\n",
       "      <td>2.458390e+06</td>\n",
       "      <td>5.236978</td>\n",
       "      <td>0.0</td>\n",
       "    </tr>\n",
       "    <tr>\n",
       "      <td>3186</td>\n",
       "      <td>20.817453</td>\n",
       "      <td>19.790672</td>\n",
       "      <td>0.179343</td>\n",
       "      <td>8.860709</td>\n",
       "      <td>19.420900</td>\n",
       "      <td>0.1340</td>\n",
       "      <td>2.760423</td>\n",
       "      <td>19.268000</td>\n",
       "      <td>0.113</td>\n",
       "      <td>6.387</td>\n",
       "      <td>...</td>\n",
       "      <td>-999.0</td>\n",
       "      <td>0.660984</td>\n",
       "      <td>19.520800</td>\n",
       "      <td>0.1836</td>\n",
       "      <td>3.0</td>\n",
       "      <td>11.0</td>\n",
       "      <td>2.458370e+06</td>\n",
       "      <td>2.458391e+06</td>\n",
       "      <td>14.190198</td>\n",
       "      <td>0.0</td>\n",
       "    </tr>\n",
       "    <tr>\n",
       "      <td>3187</td>\n",
       "      <td>21.153221</td>\n",
       "      <td>19.800976</td>\n",
       "      <td>0.208728</td>\n",
       "      <td>5.876659</td>\n",
       "      <td>20.515400</td>\n",
       "      <td>0.2529</td>\n",
       "      <td>1.422600</td>\n",
       "      <td>19.018000</td>\n",
       "      <td>0.059</td>\n",
       "      <td>2.474</td>\n",
       "      <td>...</td>\n",
       "      <td>-999.0</td>\n",
       "      <td>0.999012</td>\n",
       "      <td>19.728800</td>\n",
       "      <td>0.1553</td>\n",
       "      <td>14.0</td>\n",
       "      <td>139.0</td>\n",
       "      <td>2.458343e+06</td>\n",
       "      <td>2.458391e+06</td>\n",
       "      <td>7.552071</td>\n",
       "      <td>0.0</td>\n",
       "    </tr>\n",
       "    <tr>\n",
       "      <td>3188</td>\n",
       "      <td>20.695030</td>\n",
       "      <td>19.784037</td>\n",
       "      <td>0.148797</td>\n",
       "      <td>1.928423</td>\n",
       "      <td>19.771999</td>\n",
       "      <td>0.1807</td>\n",
       "      <td>6.561678</td>\n",
       "      <td>20.098000</td>\n",
       "      <td>0.043</td>\n",
       "      <td>0.863</td>\n",
       "      <td>...</td>\n",
       "      <td>-999.0</td>\n",
       "      <td>0.952918</td>\n",
       "      <td>19.594101</td>\n",
       "      <td>0.2094</td>\n",
       "      <td>16.0</td>\n",
       "      <td>104.0</td>\n",
       "      <td>2.458321e+06</td>\n",
       "      <td>2.458391e+06</td>\n",
       "      <td>8.503010</td>\n",
       "      <td>0.0</td>\n",
       "    </tr>\n",
       "    <tr>\n",
       "      <td>3189</td>\n",
       "      <td>20.672831</td>\n",
       "      <td>20.029093</td>\n",
       "      <td>0.162722</td>\n",
       "      <td>3.814905</td>\n",
       "      <td>20.173500</td>\n",
       "      <td>0.2754</td>\n",
       "      <td>0.473936</td>\n",
       "      <td>20.098000</td>\n",
       "      <td>0.059</td>\n",
       "      <td>1.777</td>\n",
       "      <td>...</td>\n",
       "      <td>-999.0</td>\n",
       "      <td>0.992910</td>\n",
       "      <td>19.744699</td>\n",
       "      <td>0.2365</td>\n",
       "      <td>8.0</td>\n",
       "      <td>39.0</td>\n",
       "      <td>2.458345e+06</td>\n",
       "      <td>2.458391e+06</td>\n",
       "      <td>9.202029</td>\n",
       "      <td>0.0</td>\n",
       "    </tr>\n",
       "  </tbody>\n",
       "</table>\n",
       "<p>3190 rows × 36 columns</p>\n",
       "</div>"
      ],
      "text/plain": [
       "      diffmaglim     magpsf  sigmapsf     chipsf      magap  sigmagap  \\\n",
       "0      17.281851  17.551567  0.165697   0.617023  17.300800    0.2021   \n",
       "1      20.320570  20.802053  0.195894   1.262091  20.366100    0.2053   \n",
       "2      20.427725  20.922333  0.200625   1.322061  20.233700    0.1664   \n",
       "3      20.427725  20.703472  0.172896   1.431551  20.347000    0.1857   \n",
       "4      20.427725  20.704222  0.171942   1.341425  20.474501    0.2077   \n",
       "...          ...        ...       ...        ...        ...       ...   \n",
       "3185   20.448118  17.893902  0.137054  17.172440  17.895201    0.0504   \n",
       "3186   20.817453  19.790672  0.179343   8.860709  19.420900    0.1340   \n",
       "3187   21.153221  19.800976  0.208728   5.876659  20.515400    0.2529   \n",
       "3188   20.695030  19.784037  0.148797   1.928423  19.771999    0.1807   \n",
       "3189   20.672831  20.029093  0.162722   3.814905  20.173500    0.2754   \n",
       "\n",
       "          distnr       magnr  sigmagnr    chinr  ...  ssmagnr    sumrat  \\\n",
       "0    -999.000000 -999.000000  -999.000 -999.000  ...   -999.0  0.809352   \n",
       "1       8.082719   23.323999     0.351    0.744  ...   -999.0  1.000000   \n",
       "2       9.313808   23.226999     0.332    0.681  ...   -999.0  1.000000   \n",
       "3       3.687793   20.256001     0.065    2.594  ...   -999.0  0.988251   \n",
       "4       3.520936   21.767000     0.097    0.903  ...   -999.0  0.938757   \n",
       "...          ...         ...       ...      ...  ...      ...       ...   \n",
       "3185    0.317832   15.811000     0.019    1.046  ...   -999.0  0.962659   \n",
       "3186    2.760423   19.268000     0.113    6.387  ...   -999.0  0.660984   \n",
       "3187    1.422600   19.018000     0.059    2.474  ...   -999.0  0.999012   \n",
       "3188    6.561678   20.098000     0.043    0.863  ...   -999.0  0.952918   \n",
       "3189    0.473936   20.098000     0.059    1.777  ...   -999.0  0.992910   \n",
       "\n",
       "       magapbig  sigmagapbig  ndethist  ncovhist   jdstarthist     jdendhist  \\\n",
       "0     16.575399       0.2297       1.0      54.0  2.458215e+06  2.458215e+06   \n",
       "1     19.654600       0.2366       1.0      60.0  2.458220e+06  2.458220e+06   \n",
       "2     19.508101       0.1896       1.0      51.0  2.458220e+06  2.458220e+06   \n",
       "3     19.627600       0.2118       1.0      51.0  2.458220e+06  2.458220e+06   \n",
       "4     19.993799       0.2958       1.0      51.0  2.458220e+06  2.458220e+06   \n",
       "...         ...          ...       ...       ...           ...           ...   \n",
       "3185  17.888500       0.0588      12.0      67.0  2.458309e+06  2.458390e+06   \n",
       "3186  19.520800       0.1836       3.0      11.0  2.458370e+06  2.458391e+06   \n",
       "3187  19.728800       0.1553      14.0     139.0  2.458343e+06  2.458391e+06   \n",
       "3188  19.594101       0.2094      16.0     104.0  2.458321e+06  2.458391e+06   \n",
       "3189  19.744699       0.2365       8.0      39.0  2.458345e+06  2.458391e+06   \n",
       "\n",
       "          scorr  label  \n",
       "0      5.223946    0.0  \n",
       "1      5.518701    0.0  \n",
       "2      5.856411    0.0  \n",
       "3      5.573197    0.0  \n",
       "4      6.145004    0.0  \n",
       "...         ...    ...  \n",
       "3185   5.236978    0.0  \n",
       "3186  14.190198    0.0  \n",
       "3187   7.552071    0.0  \n",
       "3188   8.503010    0.0  \n",
       "3189   9.202029    0.0  \n",
       "\n",
       "[3190 rows x 36 columns]"
      ]
     },
     "execution_count": 38,
     "metadata": {},
     "output_type": "execute_result"
    }
   ],
   "source": [
    "import pandas as pd\n",
    "df = pd.DataFrame(feats)\n",
    "df.columns = COL_NAMES\n",
    "df"
   ]
  },
  {
   "cell_type": "code",
   "execution_count": 39,
   "metadata": {},
   "outputs": [
    {
     "name": "stdout",
     "output_type": "stream",
     "text": [
      "             diffmaglim    magpsf  sigmapsf    chipsf     magap  sigmagap  \\\n",
      "diffmaglim     1.000000  0.361464  0.073366 -0.001664  0.406195  0.061730   \n",
      "magpsf         0.361464  1.000000  0.629433 -0.364209  0.952330  0.621649   \n",
      "sigmapsf       0.073366  0.629433  1.000000 -0.169084  0.666096  0.758424   \n",
      "chipsf        -0.001664 -0.364209 -0.169084  1.000000 -0.362571 -0.168481   \n",
      "magap          0.406195  0.952330  0.666096 -0.362571  1.000000  0.727099   \n",
      "sigmagap       0.061730  0.621649  0.758424 -0.168481  0.727099  1.000000   \n",
      "distnr        -0.042598 -0.223851  0.000992  0.031350 -0.132444  0.056012   \n",
      "magnr         -0.041552 -0.220853  0.002686  0.030221 -0.129417  0.058393   \n",
      "sigmagnr      -0.041219 -0.224556  0.001061  0.031347 -0.132645  0.056412   \n",
      "chinr         -0.042831 -0.227113 -0.002493  0.032309 -0.135822  0.054127   \n",
      "sharpnr       -0.041223 -0.224654  0.000943  0.031361 -0.132739  0.056376   \n",
      "sky           -0.347122 -0.178689 -0.055838  0.003667 -0.184225 -0.011257   \n",
      "magdiff        0.105906 -0.250929  0.053599  0.041496  0.056343  0.272639   \n",
      "fwhm          -0.168966 -0.333963 -0.412997  0.182035 -0.418865 -0.371059   \n",
      "classtar      -0.058016  0.044430  0.271612 -0.078328  0.158705  0.261245   \n",
      "mindtoedge     0.021841 -0.040637 -0.062006  0.030640 -0.038657 -0.039053   \n",
      "magfromlim     0.127660 -0.828145 -0.681264  0.392587 -0.854455 -0.754092   \n",
      "seeratio       0.003974 -0.077065 -0.035709  0.016357 -0.071065 -0.016629   \n",
      "aimage        -0.192782 -0.197369 -0.278436  0.125761 -0.307489 -0.303219   \n",
      "bimage        -0.187387 -0.188606 -0.241842  0.107708 -0.282576 -0.262335   \n",
      "aimagerat      0.003387 -0.077755 -0.037199  0.016707 -0.072102 -0.017862   \n",
      "bimagerat      0.003459 -0.077916 -0.037403  0.016733 -0.072231 -0.017949   \n",
      "elong         -0.073484 -0.037406 -0.165558  0.078179 -0.128100 -0.206225   \n",
      "nneg           0.097436  0.304104  0.420895 -0.078141  0.373948  0.410801   \n",
      "nbad          -0.178480 -0.163975 -0.319497  0.069326 -0.222808 -0.265572   \n",
      "ssdistnr      -0.026588 -0.071059 -0.253282  0.006992 -0.167825 -0.215847   \n",
      "ssmagnr       -0.026632 -0.071256 -0.253418  0.006994 -0.167955 -0.215986   \n",
      "sumrat         0.005452 -0.083674 -0.253246  0.003806 -0.141996 -0.195077   \n",
      "magapbig       0.418661  0.839510  0.640852 -0.357221  0.909333  0.670322   \n",
      "sigmagapbig   -0.024814  0.563812  0.592689 -0.158349  0.630959  0.771259   \n",
      "ndethist       0.017943 -0.145471 -0.038584  0.045005 -0.113815 -0.046707   \n",
      "ncovhist       0.026453  0.081033  0.170706  0.002827  0.106285  0.200377   \n",
      "jdstarthist    0.134090  0.036543  0.355338 -0.069064  0.137504  0.329988   \n",
      "jdendhist      0.292096 -0.021225  0.390751 -0.042503  0.127035  0.349016   \n",
      "scorr         -0.008697 -0.518425 -0.501645  0.322140 -0.565692 -0.455554   \n",
      "label          0.129493 -0.017397  0.041589 -0.056006  0.071195  0.144342   \n",
      "\n",
      "               distnr     magnr  sigmagnr     chinr  ...   ssmagnr    sumrat  \\\n",
      "diffmaglim  -0.042598 -0.041552 -0.041219 -0.042831  ... -0.026632  0.005452   \n",
      "magpsf      -0.223851 -0.220853 -0.224556 -0.227113  ... -0.071256 -0.083674   \n",
      "sigmapsf     0.000992  0.002686  0.001061 -0.002493  ... -0.253418 -0.253246   \n",
      "chipsf       0.031350  0.030221  0.031347  0.032309  ...  0.006994  0.003806   \n",
      "magap       -0.132444 -0.129417 -0.132645 -0.135822  ... -0.167955 -0.141996   \n",
      "sigmagap     0.056012  0.058393  0.056412  0.054127  ... -0.215986 -0.195077   \n",
      "distnr       1.000000  0.999950  0.999952  0.999861  ...  0.079396 -0.006357   \n",
      "magnr        0.999950  1.000000  0.999968  0.999854  ...  0.078203 -0.005153   \n",
      "sigmagnr     0.999952  0.999968  1.000000  0.999902  ...  0.077806 -0.005248   \n",
      "chinr        0.999861  0.999854  0.999902  1.000000  ...  0.080967 -0.003706   \n",
      "sharpnr      0.999949  0.999966  1.000000  0.999905  ...  0.077905 -0.005164   \n",
      "sky          0.024781  0.024353  0.025026  0.026424  ... -0.002166  0.041702   \n",
      "magdiff      0.312351  0.312146  0.314018  0.312307  ... -0.299729 -0.176719   \n",
      "fwhm        -0.074301 -0.075045 -0.075623 -0.072166  ...  0.179313  0.168974   \n",
      "classtar     0.173663  0.174653  0.175733  0.172766  ... -0.281955 -0.229074   \n",
      "mindtoedge   0.047022  0.046831  0.047126  0.047538  ...  0.007450  0.014105   \n",
      "magfromlim   0.119535  0.116844  0.120538  0.123069  ...  0.167156  0.157221   \n",
      "seeratio     0.011929  0.011935  0.011717  0.012189  ...  0.009169  0.006652   \n",
      "aimage      -0.122685 -0.122952 -0.123827 -0.121826  ...  0.129963  0.189587   \n",
      "bimage      -0.081471 -0.081371 -0.082218 -0.080799  ...  0.047693  0.193392   \n",
      "aimagerat    0.010997  0.010996  0.010774  0.011259  ...  0.010183  0.007279   \n",
      "bimagerat    0.011024  0.011022  0.010801  0.011287  ...  0.010205  0.007256   \n",
      "elong       -0.235427 -0.237314 -0.237995 -0.235514  ...  0.365150 -0.074208   \n",
      "nneg         0.017524  0.018069  0.017604  0.015159  ... -0.161195 -0.682850   \n",
      "nbad        -0.140197 -0.142628 -0.142836 -0.138828  ...  0.213795  0.109777   \n",
      "ssdistnr     0.079408  0.078213  0.077816  0.080980  ...  0.999968  0.084792   \n",
      "ssmagnr      0.079396  0.078203  0.077806  0.080967  ...  1.000000  0.084899   \n",
      "sumrat      -0.006357 -0.005153 -0.005248 -0.003706  ...  0.084899  1.000000   \n",
      "magapbig    -0.054233 -0.051385 -0.053707 -0.056897  ... -0.179884 -0.149041   \n",
      "sigmagapbig  0.025525  0.027749  0.025649  0.023951  ... -0.171686 -0.187428   \n",
      "ndethist     0.065779  0.066207  0.067218  0.066979  ... -0.070149  0.036144   \n",
      "ncovhist     0.030394  0.030864  0.030112  0.030591  ... -0.013157  0.011168   \n",
      "jdstarthist  0.141743  0.141943  0.142813  0.141344  ... -0.166096 -0.149990   \n",
      "jdendhist    0.250123  0.251174  0.253133  0.251110  ... -0.217850 -0.109387   \n",
      "scorr        0.036611  0.035912  0.035769  0.038844  ...  0.193272  0.138920   \n",
      "label        0.175087  0.177438  0.178736  0.177341  ... -0.149391  0.116105   \n",
      "\n",
      "             magapbig  sigmagapbig  ndethist  ncovhist  jdstarthist  \\\n",
      "diffmaglim   0.418661    -0.024814  0.017943  0.026453     0.134090   \n",
      "magpsf       0.839510     0.563812 -0.145471  0.081033     0.036543   \n",
      "sigmapsf     0.640852     0.592689 -0.038584  0.170706     0.355338   \n",
      "chipsf      -0.357221    -0.158349  0.045005  0.002827    -0.069064   \n",
      "magap        0.909333     0.630959 -0.113815  0.106285     0.137504   \n",
      "sigmagap     0.670322     0.771259 -0.046707  0.200377     0.329988   \n",
      "distnr      -0.054233     0.025525  0.065779  0.030394     0.141743   \n",
      "magnr       -0.051385     0.027749  0.066207  0.030864     0.141943   \n",
      "sigmagnr    -0.053707     0.025649  0.067218  0.030112     0.142813   \n",
      "chinr       -0.056897     0.023951  0.066979  0.030591     0.141344   \n",
      "sharpnr     -0.053790     0.025611  0.067227  0.030129     0.142849   \n",
      "sky         -0.178531     0.007704 -0.006600 -0.002442    -0.060552   \n",
      "magdiff      0.137876     0.156867  0.114944  0.072050     0.316712   \n",
      "fwhm        -0.556275    -0.348748 -0.010923  0.007509    -0.244007   \n",
      "classtar     0.271312     0.261058  0.047709 -0.034988     0.235295   \n",
      "mindtoedge  -0.035950    -0.027488  0.006613 -0.003125     0.015543   \n",
      "magfromlim  -0.748958    -0.698947  0.133735 -0.100322    -0.073011   \n",
      "seeratio    -0.037298    -0.030087  0.026411  0.022473     0.093148   \n",
      "aimage      -0.475741    -0.310515 -0.046210  0.015654    -0.240742   \n",
      "bimage      -0.440708    -0.278743 -0.026575  0.026380    -0.201794   \n",
      "aimagerat   -0.038692    -0.031292  0.026281  0.022535     0.092175   \n",
      "bimagerat   -0.038778    -0.031389  0.026350  0.022551     0.092236   \n",
      "elong       -0.196549    -0.144237 -0.108088 -0.033930    -0.216504   \n",
      "nneg         0.387103     0.377608 -0.039129  0.005743     0.202920   \n",
      "nbad        -0.254524    -0.188096 -0.041872 -0.020221    -0.252013   \n",
      "ssdistnr    -0.179764    -0.171565 -0.070128 -0.013147    -0.166146   \n",
      "ssmagnr     -0.179884    -0.171686 -0.070149 -0.013157    -0.166096   \n",
      "sumrat      -0.149041    -0.187428  0.036144  0.011168    -0.149990   \n",
      "magapbig     1.000000     0.729187 -0.064617  0.110146     0.219234   \n",
      "sigmagapbig  0.729187     1.000000 -0.062947  0.164317     0.187344   \n",
      "ndethist    -0.064617    -0.062947  1.000000  0.337172    -0.107463   \n",
      "ncovhist     0.110146     0.164317  0.337172  1.000000     0.020720   \n",
      "jdstarthist  0.219234     0.187344 -0.107463  0.020720     1.000000   \n",
      "jdendhist    0.279664     0.162312  0.173588  0.176025     0.679017   \n",
      "scorr       -0.587840    -0.412910  0.020084 -0.030932    -0.117411   \n",
      "label        0.209319     0.155418 -0.000646 -0.062572     0.281027   \n",
      "\n",
      "             jdendhist     scorr     label  \n",
      "diffmaglim    0.292096 -0.008697  0.129493  \n",
      "magpsf       -0.021225 -0.518425 -0.017397  \n",
      "sigmapsf      0.390751 -0.501645  0.041589  \n",
      "chipsf       -0.042503  0.322140 -0.056006  \n",
      "magap         0.127035 -0.565692  0.071195  \n",
      "sigmagap      0.349016 -0.455554  0.144342  \n",
      "distnr        0.250123  0.036611  0.175087  \n",
      "magnr         0.251174  0.035912  0.177438  \n",
      "sigmagnr      0.253133  0.035769  0.178736  \n",
      "chinr         0.251110  0.038844  0.177341  \n",
      "sharpnr       0.253204  0.035859  0.178829  \n",
      "sky          -0.068115 -0.026584 -0.074389  \n",
      "magdiff       0.472551 -0.098309  0.282839  \n",
      "fwhm         -0.364162  0.615381 -0.259248  \n",
      "classtar      0.371345 -0.348069  0.319930  \n",
      "mindtoedge   -0.011301  0.014022 -0.007189  \n",
      "magfromlim    0.028185  0.609054 -0.003652  \n",
      "seeratio      0.118384  0.081151  0.005398  \n",
      "aimage       -0.375552  0.518533 -0.283606  \n",
      "bimage       -0.311264  0.493513 -0.228817  \n",
      "aimagerat     0.117053  0.082507  0.004312  \n",
      "bimagerat     0.117215  0.082658  0.004455  \n",
      "elong        -0.374793  0.181200 -0.354883  \n",
      "nneg          0.209814 -0.334955 -0.009920  \n",
      "nbad         -0.377273  0.198083 -0.267383  \n",
      "ssdistnr     -0.217913  0.193089 -0.149470  \n",
      "ssmagnr      -0.217850  0.193272 -0.149391  \n",
      "sumrat       -0.109387  0.138920  0.116105  \n",
      "magapbig      0.279664 -0.587840  0.209319  \n",
      "sigmagapbig   0.162312 -0.412910  0.155418  \n",
      "ndethist      0.173588  0.020084 -0.000646  \n",
      "ncovhist      0.176025 -0.030932 -0.062572  \n",
      "jdstarthist   0.679017 -0.117411  0.281027  \n",
      "jdendhist     1.000000 -0.142036  0.397346  \n",
      "scorr        -0.142036  1.000000 -0.043153  \n",
      "label         0.397346 -0.043153  1.000000  \n",
      "\n",
      "[36 rows x 36 columns]\n"
     ]
    }
   ],
   "source": [
    "corr_matrix = df.corr()\n",
    "print(corr_matrix)"
   ]
  },
  {
   "cell_type": "code",
   "execution_count": 40,
   "metadata": {},
   "outputs": [
    {
     "data": {
      "text/plain": [
       "<matplotlib.axes._subplots.AxesSubplot at 0x7f5facf332d0>"
      ]
     },
     "execution_count": 40,
     "metadata": {},
     "output_type": "execute_result"
    },
    {
     "data": {
      "image/png": "[encoded data removed]",
      "text/plain": [
       "<Figure size 432x288 with 2 Axes>"
      ]
     },
     "metadata": {
      "needs_background": "light"
     },
     "output_type": "display_data"
    }
   ],
   "source": [
    "import seaborn as sn\n",
    "sn.heatmap(corr_matrix, annot=False)"
   ]
  },
  {
   "cell_type": "code",
   "execution_count": null,
   "metadata": {},
   "outputs": [],
   "source": []
  }
 ],
 "metadata": {
  "kernelspec": {
   "display_name": "Python 3",
   "language": "python",
   "name": "python3"
  },
  "language_info": {
   "codemirror_mode": {
    "name": "ipython",
    "version": 3
   },
   "file_extension": ".py",
   "mimetype": "text/x-python",
   "name": "python",
   "nbconvert_exporter": "python",
   "pygments_lexer": "ipython3",
   "version": "3.7.4"
  }
 },
 "nbformat": 4,
 "nbformat_minor": 2
}
