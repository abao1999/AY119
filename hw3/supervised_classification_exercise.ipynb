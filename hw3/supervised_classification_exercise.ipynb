{
 "cells": [
  {
   "cell_type": "markdown",
   "metadata": {},
   "source": [
    "# Supervised Classification Module (exercise)\n",
    "\n",
    "**Lecturer:** Ashish Mahabal<br>\n",
    "**Jupyter Notebook Authors:** Ashish Mahabal & Yuhan Yao\n",
    "\n",
    "This is a Jupyter notebook lesson extending the GROWTH Summer School 2019 and adapted for the NARIT-EACOA 2019 summer workshop.\n",
    "\n",
    "## Objective\n",
    "Classify different classes using (a) decision trees and (b) random forest \n",
    "\n",
    "## Key steps\n",
    "- Pick variable types\n",
    "- Select training sample\n",
    "- Select method\n",
    "- Look at confusion matrix and details \n",
    "\n",
    "## Required dependencies\n",
    "\n",
    "See GROWTH school webpage for detailed instructions on how to install these modules and packages.  Nominally, you should be able to install the python modules with `pip install <module>`.  The external astromatic packages are easiest installed using package managers (e.g., `rpm`, `apt-get`).\n",
    "\n",
    "### Python modules\n",
    "* python 3\n",
    "* astropy\n",
    "* numpy\n",
    "* astroquery\n",
    "* pandas\n",
    "* matplotlib\n",
    "* pydotplus\n",
    "* IPython.display\n",
    "* sklearn\n",
    "\n",
    "### External packages\n",
    "None\n",
    "\n",
    "### Partial Credits\n",
    "Pavlos Protopapas (LSSDS notebook)"
   ]
  },
  {
   "cell_type": "markdown",
   "metadata": {},
   "source": [
    "## Now you will do a similar set of analyses on a different dataset.\n",
    "### Here you will use the light curves file to derive features\n",
    "### And then use the resulting file to run decision trees and random forest on that for classification"
   ]
  },
  {
   "cell_type": "markdown",
   "metadata": {},
   "source": [
    "#### import the required modules (exercise)"
   ]
  },
  {
   "cell_type": "code",
   "execution_count": 1,
   "metadata": {},
   "outputs": [],
   "source": [
    "import numpy as np\n",
    "import pandas as pd\n",
    "import os"
   ]
  },
  {
   "cell_type": "markdown",
   "metadata": {},
   "source": [
    "#### read the lightcurves file"
   ]
  },
  {
   "cell_type": "code",
   "execution_count": 2,
   "metadata": {},
   "outputs": [],
   "source": [
    "datadir = 'data'\n",
    "lightcurves = datadir + '/CRTS_6varclasses.csv.gz'"
   ]
  },
  {
   "cell_type": "code",
   "execution_count": 3,
   "metadata": {},
   "outputs": [
    {
     "data": {
      "text/html": [
       "<div>\n",
       "<style scoped>\n",
       "    .dataframe tbody tr th:only-of-type {\n",
       "        vertical-align: middle;\n",
       "    }\n",
       "\n",
       "    .dataframe tbody tr th {\n",
       "        vertical-align: top;\n",
       "    }\n",
       "\n",
       "    .dataframe thead th {\n",
       "        text-align: right;\n",
       "    }\n",
       "</style>\n",
       "<table border=\"1\" class=\"dataframe\">\n",
       "  <thead>\n",
       "    <tr style=\"text-align: right;\">\n",
       "      <th></th>\n",
       "      <th>ID</th>\n",
       "      <th>MJD</th>\n",
       "      <th>Mag</th>\n",
       "      <th>magerr</th>\n",
       "      <th>RA</th>\n",
       "      <th>Dec</th>\n",
       "    </tr>\n",
       "  </thead>\n",
       "  <tbody>\n",
       "    <tr>\n",
       "      <td>0</td>\n",
       "      <td>1109065026725</td>\n",
       "      <td>53705.501925</td>\n",
       "      <td>16.943797</td>\n",
       "      <td>0.082004</td>\n",
       "      <td>182.25871</td>\n",
       "      <td>9.76580</td>\n",
       "    </tr>\n",
       "    <tr>\n",
       "      <td>1</td>\n",
       "      <td>1109065026725</td>\n",
       "      <td>53731.483314</td>\n",
       "      <td>16.645102</td>\n",
       "      <td>0.075203</td>\n",
       "      <td>182.25867</td>\n",
       "      <td>9.76585</td>\n",
       "    </tr>\n",
       "    <tr>\n",
       "      <td>2</td>\n",
       "      <td>1109065026725</td>\n",
       "      <td>53731.491406</td>\n",
       "      <td>16.693791</td>\n",
       "      <td>0.076497</td>\n",
       "      <td>182.25870</td>\n",
       "      <td>9.76574</td>\n",
       "    </tr>\n",
       "    <tr>\n",
       "      <td>3</td>\n",
       "      <td>1109065026725</td>\n",
       "      <td>53731.499465</td>\n",
       "      <td>16.793651</td>\n",
       "      <td>0.078755</td>\n",
       "      <td>182.25869</td>\n",
       "      <td>9.76576</td>\n",
       "    </tr>\n",
       "    <tr>\n",
       "      <td>4</td>\n",
       "      <td>1109065026725</td>\n",
       "      <td>53731.507529</td>\n",
       "      <td>16.767817</td>\n",
       "      <td>0.077436</td>\n",
       "      <td>182.25878</td>\n",
       "      <td>9.76581</td>\n",
       "    </tr>\n",
       "  </tbody>\n",
       "</table>\n",
       "</div>"
      ],
      "text/plain": [
       "              ID           MJD        Mag    magerr         RA      Dec\n",
       "0  1109065026725  53705.501925  16.943797  0.082004  182.25871  9.76580\n",
       "1  1109065026725  53731.483314  16.645102  0.075203  182.25867  9.76585\n",
       "2  1109065026725  53731.491406  16.693791  0.076497  182.25870  9.76574\n",
       "3  1109065026725  53731.499465  16.793651  0.078755  182.25869  9.76576\n",
       "4  1109065026725  53731.507529  16.767817  0.077436  182.25878  9.76581"
      ]
     },
     "execution_count": 3,
     "metadata": {},
     "output_type": "execute_result"
    }
   ],
   "source": [
    "lcs = pd.read_csv(lightcurves,\n",
    "                 compression='gzip',\n",
    "                 header=1,\n",
    "                 sep=',',\n",
    "                 skipinitialspace=True,\n",
    "                 nrows=100000)\n",
    "                 #skiprows=[4,5])\n",
    "                 #,nrows=100000)\n",
    "\n",
    "lcs.columns = ['ID', 'MJD', 'Mag', 'magerr', 'RA', 'Dec']\n",
    "lcs.head()"
   ]
  },
  {
   "cell_type": "code",
   "execution_count": 4,
   "metadata": {},
   "outputs": [
    {
     "data": {
      "text/plain": [
       "100000"
      ]
     },
     "execution_count": 4,
     "metadata": {},
     "output_type": "execute_result"
    }
   ],
   "source": [
    "len(lcs)"
   ]
  },
  {
   "cell_type": "markdown",
   "metadata": {},
   "source": [
    "#### We need classes, so load the catalog file too"
   ]
  },
  {
   "cell_type": "code",
   "execution_count": 5,
   "metadata": {},
   "outputs": [],
   "source": [
    "catalog = datadir + '/CatalinaVars.tbl.gz'"
   ]
  },
  {
   "cell_type": "code",
   "execution_count": 6,
   "metadata": {},
   "outputs": [
    {
     "data": {
      "text/html": [
       "<div>\n",
       "<style scoped>\n",
       "    .dataframe tbody tr th:only-of-type {\n",
       "        vertical-align: middle;\n",
       "    }\n",
       "\n",
       "    .dataframe tbody tr th {\n",
       "        vertical-align: top;\n",
       "    }\n",
       "\n",
       "    .dataframe thead th {\n",
       "        text-align: right;\n",
       "    }\n",
       "</style>\n",
       "<table border=\"1\" class=\"dataframe\">\n",
       "  <thead>\n",
       "    <tr style=\"text-align: right;\">\n",
       "      <th></th>\n",
       "      <th>Catalina_Surveys_ID</th>\n",
       "      <th>Numerical_ID</th>\n",
       "      <th>RA_J2000</th>\n",
       "      <th>Dec</th>\n",
       "      <th>V_mag</th>\n",
       "      <th>Period_days</th>\n",
       "      <th>Amplitude</th>\n",
       "      <th>Number_Obs</th>\n",
       "      <th>Var_Type</th>\n",
       "    </tr>\n",
       "  </thead>\n",
       "  <tbody>\n",
       "    <tr>\n",
       "      <td>0</td>\n",
       "      <td>CSS_J000020.4+103118</td>\n",
       "      <td>1109001041232</td>\n",
       "      <td>00:00:20.41</td>\n",
       "      <td>+10:31:18.9</td>\n",
       "      <td>14.62</td>\n",
       "      <td>1.491758</td>\n",
       "      <td>2.39</td>\n",
       "      <td>223</td>\n",
       "      <td>2</td>\n",
       "    </tr>\n",
       "    <tr>\n",
       "      <td>1</td>\n",
       "      <td>CSS_J000031.5-084652</td>\n",
       "      <td>1009001044997</td>\n",
       "      <td>00:00:31.50</td>\n",
       "      <td>-08:46:52.3</td>\n",
       "      <td>14.14</td>\n",
       "      <td>0.404185</td>\n",
       "      <td>0.12</td>\n",
       "      <td>163</td>\n",
       "      <td>1</td>\n",
       "    </tr>\n",
       "    <tr>\n",
       "      <td>2</td>\n",
       "      <td>CSS_J000036.9+412805</td>\n",
       "      <td>1140001063366</td>\n",
       "      <td>00:00:36.94</td>\n",
       "      <td>+41:28:05.7</td>\n",
       "      <td>17.39</td>\n",
       "      <td>0.274627</td>\n",
       "      <td>0.73</td>\n",
       "      <td>158</td>\n",
       "      <td>1</td>\n",
       "    </tr>\n",
       "    <tr>\n",
       "      <td>3</td>\n",
       "      <td>CSS_J000037.5+390308</td>\n",
       "      <td>1138001069849</td>\n",
       "      <td>00:00:37.55</td>\n",
       "      <td>+39:03:08.1</td>\n",
       "      <td>17.74</td>\n",
       "      <td>0.30691</td>\n",
       "      <td>0.23</td>\n",
       "      <td>219</td>\n",
       "      <td>1</td>\n",
       "    </tr>\n",
       "    <tr>\n",
       "      <td>4</td>\n",
       "      <td>CSS_J000103.3+105724</td>\n",
       "      <td>1109001050739</td>\n",
       "      <td>00:01:03.37</td>\n",
       "      <td>+10:57:24.4</td>\n",
       "      <td>15.25</td>\n",
       "      <td>1.5837582</td>\n",
       "      <td>0.11</td>\n",
       "      <td>223</td>\n",
       "      <td>8</td>\n",
       "    </tr>\n",
       "  </tbody>\n",
       "</table>\n",
       "</div>"
      ],
      "text/plain": [
       "    Catalina_Surveys_ID   Numerical_ID     RA_J2000          Dec  V_mag  \\\n",
       "0  CSS_J000020.4+103118  1109001041232  00:00:20.41  +10:31:18.9  14.62   \n",
       "1  CSS_J000031.5-084652  1009001044997  00:00:31.50  -08:46:52.3  14.14   \n",
       "2  CSS_J000036.9+412805  1140001063366  00:00:36.94  +41:28:05.7  17.39   \n",
       "3  CSS_J000037.5+390308  1138001069849  00:00:37.55  +39:03:08.1  17.74   \n",
       "4  CSS_J000103.3+105724  1109001050739  00:01:03.37  +10:57:24.4  15.25   \n",
       "\n",
       "  Period_days  Amplitude  Number_Obs  Var_Type  \n",
       "0    1.491758       2.39         223         2  \n",
       "1    0.404185       0.12         163         1  \n",
       "2    0.274627       0.73         158         1  \n",
       "3     0.30691       0.23         219         1  \n",
       "4   1.5837582       0.11         223         8  "
      ]
     },
     "execution_count": 6,
     "metadata": {},
     "output_type": "execute_result"
    }
   ],
   "source": [
    "cat = pd.read_csv(catalog,\n",
    "                 compression='gzip',\n",
    "                 header=5,\n",
    "                 sep=' ',\n",
    "                 skipinitialspace=True,\n",
    "                 )\n",
    "\n",
    "columns = cat.columns[1:]\n",
    "cat = cat[cat.columns[:-1]]\n",
    "cat.columns = columns\n",
    "\n",
    "cat.head()"
   ]
  },
  {
   "cell_type": "code",
   "execution_count": 7,
   "metadata": {},
   "outputs": [],
   "source": [
    "RRd = cat[ cat['Var_Type'].isin([6]) & (cat['Number_Obs']>100) ]"
   ]
  },
  {
   "cell_type": "code",
   "execution_count": 8,
   "metadata": {},
   "outputs": [
    {
     "data": {
      "text/html": [
       "<div>\n",
       "<style scoped>\n",
       "    .dataframe tbody tr th:only-of-type {\n",
       "        vertical-align: middle;\n",
       "    }\n",
       "\n",
       "    .dataframe tbody tr th {\n",
       "        vertical-align: top;\n",
       "    }\n",
       "\n",
       "    .dataframe thead th {\n",
       "        text-align: right;\n",
       "    }\n",
       "</style>\n",
       "<table border=\"1\" class=\"dataframe\">\n",
       "  <thead>\n",
       "    <tr style=\"text-align: right;\">\n",
       "      <th></th>\n",
       "      <th>Catalina_Surveys_ID</th>\n",
       "      <th>Numerical_ID</th>\n",
       "      <th>RA_J2000</th>\n",
       "      <th>Dec</th>\n",
       "      <th>V_mag</th>\n",
       "      <th>Period_days</th>\n",
       "      <th>Amplitude</th>\n",
       "      <th>Number_Obs</th>\n",
       "      <th>Var_Type</th>\n",
       "    </tr>\n",
       "  </thead>\n",
       "  <tbody>\n",
       "    <tr>\n",
       "      <td>115</td>\n",
       "      <td>CSS_J001420.8+031214</td>\n",
       "      <td>1104002007409</td>\n",
       "      <td>00:14:20.84</td>\n",
       "      <td>+03:12:14.0</td>\n",
       "      <td>17.45</td>\n",
       "      <td>0.3871100</td>\n",
       "      <td>0.56</td>\n",
       "      <td>174</td>\n",
       "      <td>6</td>\n",
       "    </tr>\n",
       "    <tr>\n",
       "      <td>198</td>\n",
       "      <td>CSS_J001724.9+200542</td>\n",
       "      <td>1121002007726</td>\n",
       "      <td>00:17:24.90</td>\n",
       "      <td>+20:05:42.2</td>\n",
       "      <td>16.64</td>\n",
       "      <td>0.3571291</td>\n",
       "      <td>0.39</td>\n",
       "      <td>224</td>\n",
       "      <td>6</td>\n",
       "    </tr>\n",
       "    <tr>\n",
       "      <td>214</td>\n",
       "      <td>CSS_J001812.9+210201</td>\n",
       "      <td>1121002027610</td>\n",
       "      <td>00:18:12.97</td>\n",
       "      <td>+21:02:01.5</td>\n",
       "      <td>14.54</td>\n",
       "      <td>0.41616</td>\n",
       "      <td>0.34</td>\n",
       "      <td>224</td>\n",
       "      <td>6</td>\n",
       "    </tr>\n",
       "    <tr>\n",
       "      <td>531</td>\n",
       "      <td>CSS_J003001.7+094947</td>\n",
       "      <td>1109003028079</td>\n",
       "      <td>00:30:01.71</td>\n",
       "      <td>+09:49:47.6</td>\n",
       "      <td>16.91</td>\n",
       "      <td>0.3729404</td>\n",
       "      <td>0.36</td>\n",
       "      <td>212</td>\n",
       "      <td>6</td>\n",
       "    </tr>\n",
       "    <tr>\n",
       "      <td>640</td>\n",
       "      <td>CSS_J003359.4+022609</td>\n",
       "      <td>1101004049971</td>\n",
       "      <td>00:33:59.48</td>\n",
       "      <td>+02:26:09.0</td>\n",
       "      <td>15.87</td>\n",
       "      <td>0.3601025</td>\n",
       "      <td>0.27</td>\n",
       "      <td>195</td>\n",
       "      <td>6</td>\n",
       "    </tr>\n",
       "  </tbody>\n",
       "</table>\n",
       "</div>"
      ],
      "text/plain": [
       "      Catalina_Surveys_ID   Numerical_ID     RA_J2000          Dec  V_mag  \\\n",
       "115  CSS_J001420.8+031214  1104002007409  00:14:20.84  +03:12:14.0  17.45   \n",
       "198  CSS_J001724.9+200542  1121002007726  00:17:24.90  +20:05:42.2  16.64   \n",
       "214  CSS_J001812.9+210201  1121002027610  00:18:12.97  +21:02:01.5  14.54   \n",
       "531  CSS_J003001.7+094947  1109003028079  00:30:01.71  +09:49:47.6  16.91   \n",
       "640  CSS_J003359.4+022609  1101004049971  00:33:59.48  +02:26:09.0  15.87   \n",
       "\n",
       "    Period_days  Amplitude  Number_Obs  Var_Type  \n",
       "115   0.3871100       0.56         174         6  \n",
       "198   0.3571291       0.39         224         6  \n",
       "214     0.41616       0.34         224         6  \n",
       "531   0.3729404       0.36         212         6  \n",
       "640   0.3601025       0.27         195         6  "
      ]
     },
     "execution_count": 8,
     "metadata": {},
     "output_type": "execute_result"
    }
   ],
   "source": [
    "RRd.head()"
   ]
  },
  {
   "cell_type": "markdown",
   "metadata": {},
   "source": [
    "### Get numerical ids of objects belonging to the RRd class - call them RRds"
   ]
  },
  {
   "cell_type": "code",
   "execution_count": 9,
   "metadata": {},
   "outputs": [],
   "source": [
    "RRds = RRd['Numerical_ID']"
   ]
  },
  {
   "cell_type": "code",
   "execution_count": 10,
   "metadata": {},
   "outputs": [
    {
     "data": {
      "text/plain": [
       "115    1104002007409\n",
       "198    1121002007726\n",
       "214    1121002027610\n",
       "531    1109003028079\n",
       "640    1101004049971\n",
       "Name: Numerical_ID, dtype: int64"
      ]
     },
     "execution_count": 10,
     "metadata": {},
     "output_type": "execute_result"
    }
   ],
   "source": [
    "RRds.head()"
   ]
  },
  {
   "cell_type": "markdown",
   "metadata": {},
   "source": [
    "### Let us extract some features from the mags (lets ignore the mag errors for now)"
   ]
  },
  {
   "cell_type": "markdown",
   "metadata": {},
   "source": [
    "#### For a given id you could do it as follows. isin() accepts a list so you could use the entire RRds there\n",
    "#### you will lose the id infor if you do that in a single step, so you could break it up"
   ]
  },
  {
   "cell_type": "code",
   "execution_count": 11,
   "metadata": {},
   "outputs": [
    {
     "data": {
      "text/plain": [
       "0      16.943797\n",
       "1      16.645102\n",
       "2      16.693791\n",
       "3      16.793651\n",
       "4      16.767817\n",
       "         ...    \n",
       "394    16.461535\n",
       "395    16.891826\n",
       "396    16.824519\n",
       "397    16.787664\n",
       "398    16.816125\n",
       "Name: Mag, Length: 399, dtype: float64"
      ]
     },
     "execution_count": 11,
     "metadata": {},
     "output_type": "execute_result"
    }
   ],
   "source": [
    "lcs[lcs['ID'].isin(['1109065026725'])]['Mag']"
   ]
  },
  {
   "cell_type": "code",
   "execution_count": 12,
   "metadata": {},
   "outputs": [
    {
     "data": {
      "text/plain": [
       "1212     14.998325\n",
       "1213     14.984769\n",
       "1214     15.010683\n",
       "1215     14.984963\n",
       "1216     14.817003\n",
       "           ...    \n",
       "98439    16.241040\n",
       "98440    16.298755\n",
       "98441    16.282934\n",
       "98442    16.270512\n",
       "98443    16.301170\n",
       "Name: Mag, Length: 6340, dtype: float64"
      ]
     },
     "execution_count": 12,
     "metadata": {},
     "output_type": "execute_result"
    }
   ],
   "source": [
    "lcs[lcs['ID'].isin(RRds)]['Mag']"
   ]
  },
  {
   "cell_type": "markdown",
   "metadata": {},
   "source": [
    "#### Lets assign mags for '1109065026725' to mags (a dictionary)"
   ]
  },
  {
   "cell_type": "code",
   "execution_count": 13,
   "metadata": {},
   "outputs": [],
   "source": [
    "mags = {}\n",
    "mags['1109065026725'] = lcs[lcs['ID'].isin(['1109065026725'])]['Mag']"
   ]
  },
  {
   "cell_type": "markdown",
   "metadata": {},
   "source": [
    "#### Let us get the mean of mags for this one particular object: '1109065026725'"
   ]
  },
  {
   "cell_type": "code",
   "execution_count": 14,
   "metadata": {},
   "outputs": [
    {
     "data": {
      "text/plain": [
       "16.717012834586466"
      ]
     },
     "execution_count": 14,
     "metadata": {},
     "output_type": "execute_result"
    }
   ],
   "source": [
    "np.mean(mags['1109065026725'].values)"
   ]
  },
  {
   "cell_type": "markdown",
   "metadata": {},
   "source": [
    "#### Assign it to another dictionary with the same key"
   ]
  },
  {
   "cell_type": "code",
   "execution_count": 15,
   "metadata": {},
   "outputs": [],
   "source": [
    "means = {}\n",
    "means['1109065026725'] = np.mean(mags['1109065026725'].values)"
   ]
  },
  {
   "cell_type": "markdown",
   "metadata": {},
   "source": [
    "## Exercise!"
   ]
  },
  {
   "cell_type": "markdown",
   "metadata": {},
   "source": [
    "### Get mean, median, skew, kurtosis for all ids in our light curves set"
   ]
  },
  {
   "cell_type": "code",
   "execution_count": 16,
   "metadata": {},
   "outputs": [
    {
     "name": "stdout",
     "output_type": "stream",
     "text": [
      "id: 1109065026725\n",
      "mean:  16.717012834586466\n",
      "median:  16.729198\n",
      "skew:  -0.19222112044199696\n",
      "kurtosis:  -1.2417932925339292\n"
     ]
    }
   ],
   "source": [
    "from scipy.stats import skew, kurtosis\n",
    "\n",
    "print(\"id: 1109065026725\")\n",
    "print(\"mean: \", np.mean(mags['1109065026725']))\n",
    "print(\"median: \", np.median(mags['1109065026725']))\n",
    "print(\"skew: \", skew(mags['1109065026725']))\n",
    "print(\"kurtosis: \", kurtosis(mags['1109065026725']))"
   ]
  },
  {
   "cell_type": "code",
   "execution_count": 17,
   "metadata": {},
   "outputs": [
    {
     "data": {
      "text/plain": [
       "0      16.943797\n",
       "1      16.645102\n",
       "2      16.693791\n",
       "3      16.793651\n",
       "4      16.767817\n",
       "         ...    \n",
       "394    16.461535\n",
       "395    16.891826\n",
       "396    16.824519\n",
       "397    16.787664\n",
       "398    16.816125\n",
       "Name: Mag, Length: 399, dtype: float64"
      ]
     },
     "execution_count": 17,
     "metadata": {},
     "output_type": "execute_result"
    }
   ],
   "source": [
    "lcs[lcs['ID'].isin(['1109065026725'])]['Mag']"
   ]
  },
  {
   "cell_type": "markdown",
   "metadata": {},
   "source": [
    "#### Define the dictionaries that you need"
   ]
  },
  {
   "cell_type": "code",
   "execution_count": 18,
   "metadata": {},
   "outputs": [],
   "source": [
    "mags = {}\n",
    "mean_dict = {}\n",
    "median_dict = {}\n",
    "skew_dict = {}\n",
    "kurtosis_dict = {}"
   ]
  },
  {
   "cell_type": "code",
   "execution_count": 19,
   "metadata": {},
   "outputs": [],
   "source": [
    "for idx in lcs['ID']:\n",
    "    mag = lcs[lcs['ID'].isin([idx])]['Mag']\n",
    "    mags[idx] = mag\n",
    "    mean_dict[idx] = np.mean(mag)\n",
    "    median_dict[idx] = np.median(mag)\n",
    "    skew_dict[idx] = skew(mag)\n",
    "    kurtosis_dict[idx] = kurtosis(mag)"
   ]
  },
  {
   "cell_type": "markdown",
   "metadata": {},
   "source": [
    "## Now run decision tree and random forest using these variables by picking a couple of classes"
   ]
  },
  {
   "cell_type": "code",
   "execution_count": null,
   "metadata": {},
   "outputs": [],
   "source": []
  }
 ],
 "metadata": {
  "kernelspec": {
   "display_name": "Python 3",
   "language": "python",
   "name": "python3"
  },
  "language_info": {
   "codemirror_mode": {
    "name": "ipython",
    "version": 3
   },
   "file_extension": ".py",
   "mimetype": "text/x-python",
   "name": "python",
   "nbconvert_exporter": "python",
   "pygments_lexer": "ipython3",
   "version": "3.7.4"
  }
 },
 "nbformat": 4,
 "nbformat_minor": 2
}
