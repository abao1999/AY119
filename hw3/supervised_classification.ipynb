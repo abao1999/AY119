{
 "cells": [
  {
   "cell_type": "markdown",
   "metadata": {},
   "source": [
    "# Supervised Classification Module\n",
    "\n",
    "**Lecturer:** Ashish Mahabal<br>\n",
    "**Jupyter Notebook Authors:** Ashish Mahabal & Yuhan Yao\n",
    "\n",
    "This is a Jupyter notebook lesson extending the GROWTH Summer School 2019 and adapted for the NARIT-EACOA 2019 summer workshop.\n",
    "\n",
    "## Objective\n",
    "Classify different classes using (a) decision trees and (b) random forest \n",
    "\n",
    "## Key steps\n",
    "- Pick variable types\n",
    "- Select training sample\n",
    "- Select method\n",
    "- Look at confusion matrix and details \n",
    "\n",
    "## Required dependencies\n",
    "\n",
    "See GROWTH school webpage for detailed instructions on how to install these modules and packages.  Nominally, you should be able to install the python modules with `pip install <module>`.  The external astromatic packages are easiest installed using package managers (e.g., `rpm`, `apt-get`).\n",
    "\n",
    "### Python modules\n",
    "* python 3\n",
    "* astropy\n",
    "* numpy\n",
    "* astroquery\n",
    "* pandas\n",
    "* matplotlib\n",
    "* pydotplus\n",
    "* IPython.display\n",
    "* sklearn\n",
    "\n",
    "### External packages\n",
    "None\n",
    "\n",
    "### Partial Credits\n",
    "Pavlos Protopapas (LSSDS notebook)"
   ]
  },
  {
   "cell_type": "code",
   "execution_count": 1,
   "metadata": {},
   "outputs": [],
   "source": [
    "# For inline plots\n",
    "%matplotlib inline\n",
    "\n",
    "import numpy as np\n",
    "import pandas as pd\n",
    "import matplotlib.pyplot as plt\n",
    "\n",
    "import io\n",
    "import pydotplus\n",
    "from IPython.display import Image\n",
    "\n",
    "# Various scikit-learn modules\n",
    "from sklearn.model_selection import train_test_split\n",
    "from sklearn import tree\n",
    "from sklearn.metrics import confusion_matrix\n",
    "from sklearn.tree import DecisionTreeRegressor, DecisionTreeClassifier, export_graphviz\n",
    "from sklearn.model_selection import GridSearchCV\n",
    "from sklearn.ensemble import RandomForestClassifier"
   ]
  },
  {
   "cell_type": "markdown",
   "metadata": {},
   "source": [
    "### Define datadir and files we will use"
   ]
  },
  {
   "cell_type": "code",
   "execution_count": 2,
   "metadata": {},
   "outputs": [],
   "source": [
    "datadir = 'data'\n",
    "\n",
    "# for decision tree\n",
    "catalog = datadir + '/CatalinaVars.tbl.gz'\n",
    "lightcurves = datadir + '/CRTS_6varclasses.csv.gz'\n",
    "\n",
    "# for random forest\n",
    "featuresfile = datadir + '/cvs_and_blazars.dat'"
   ]
  },
  {
   "cell_type": "markdown",
   "metadata": {},
   "source": [
    "### Read the light curves"
   ]
  },
  {
   "cell_type": "code",
   "execution_count": 3,
   "metadata": {},
   "outputs": [
    {
     "data": {
      "text/html": [
       "<div>\n",
       "<style scoped>\n",
       "    .dataframe tbody tr th:only-of-type {\n",
       "        vertical-align: middle;\n",
       "    }\n",
       "\n",
       "    .dataframe tbody tr th {\n",
       "        vertical-align: top;\n",
       "    }\n",
       "\n",
       "    .dataframe thead th {\n",
       "        text-align: right;\n",
       "    }\n",
       "</style>\n",
       "<table border=\"1\" class=\"dataframe\">\n",
       "  <thead>\n",
       "    <tr style=\"text-align: right;\">\n",
       "      <th></th>\n",
       "      <th>ID</th>\n",
       "      <th>MJD</th>\n",
       "      <th>Mag</th>\n",
       "      <th>magerr</th>\n",
       "      <th>RA</th>\n",
       "      <th>Dec</th>\n",
       "    </tr>\n",
       "  </thead>\n",
       "  <tbody>\n",
       "    <tr>\n",
       "      <td>0</td>\n",
       "      <td>1109065026725</td>\n",
       "      <td>53705.501925</td>\n",
       "      <td>16.943797</td>\n",
       "      <td>0.082004</td>\n",
       "      <td>182.25871</td>\n",
       "      <td>9.76580</td>\n",
       "    </tr>\n",
       "    <tr>\n",
       "      <td>1</td>\n",
       "      <td>1109065026725</td>\n",
       "      <td>53731.483314</td>\n",
       "      <td>16.645102</td>\n",
       "      <td>0.075203</td>\n",
       "      <td>182.25867</td>\n",
       "      <td>9.76585</td>\n",
       "    </tr>\n",
       "    <tr>\n",
       "      <td>2</td>\n",
       "      <td>1109065026725</td>\n",
       "      <td>53731.491406</td>\n",
       "      <td>16.693791</td>\n",
       "      <td>0.076497</td>\n",
       "      <td>182.25870</td>\n",
       "      <td>9.76574</td>\n",
       "    </tr>\n",
       "    <tr>\n",
       "      <td>3</td>\n",
       "      <td>1109065026725</td>\n",
       "      <td>53731.499465</td>\n",
       "      <td>16.793651</td>\n",
       "      <td>0.078755</td>\n",
       "      <td>182.25869</td>\n",
       "      <td>9.76576</td>\n",
       "    </tr>\n",
       "    <tr>\n",
       "      <td>4</td>\n",
       "      <td>1109065026725</td>\n",
       "      <td>53731.507529</td>\n",
       "      <td>16.767817</td>\n",
       "      <td>0.077436</td>\n",
       "      <td>182.25878</td>\n",
       "      <td>9.76581</td>\n",
       "    </tr>\n",
       "  </tbody>\n",
       "</table>\n",
       "</div>"
      ],
      "text/plain": [
       "              ID           MJD        Mag    magerr         RA      Dec\n",
       "0  1109065026725  53705.501925  16.943797  0.082004  182.25871  9.76580\n",
       "1  1109065026725  53731.483314  16.645102  0.075203  182.25867  9.76585\n",
       "2  1109065026725  53731.491406  16.693791  0.076497  182.25870  9.76574\n",
       "3  1109065026725  53731.499465  16.793651  0.078755  182.25869  9.76576\n",
       "4  1109065026725  53731.507529  16.767817  0.077436  182.25878  9.76581"
      ]
     },
     "execution_count": 3,
     "metadata": {},
     "output_type": "execute_result"
    }
   ],
   "source": [
    "lcs = pd.read_csv(lightcurves,\n",
    "                 compression='gzip',\n",
    "                 header=1,\n",
    "                 sep=',',\n",
    "                 skipinitialspace=True,\n",
    "                 nrows=100000)\n",
    "                 #skiprows=[4,5])\n",
    "                 #,nrows=100000)\n",
    "\n",
    "lcs.columns = ['ID', 'MJD', 'Mag', 'magerr', 'RA', 'Dec']\n",
    "lcs.head()\n"
   ]
  },
  {
   "cell_type": "code",
   "execution_count": 4,
   "metadata": {},
   "outputs": [
    {
     "data": {
      "text/plain": [
       "301"
      ]
     },
     "execution_count": 4,
     "metadata": {},
     "output_type": "execute_result"
    }
   ],
   "source": [
    "len(lcs.groupby('ID'))"
   ]
  },
  {
   "cell_type": "markdown",
   "metadata": {},
   "source": [
    "### Read catalog with class information for variables"
   ]
  },
  {
   "cell_type": "code",
   "execution_count": 5,
   "metadata": {},
   "outputs": [
    {
     "data": {
      "text/html": [
       "<div>\n",
       "<style scoped>\n",
       "    .dataframe tbody tr th:only-of-type {\n",
       "        vertical-align: middle;\n",
       "    }\n",
       "\n",
       "    .dataframe tbody tr th {\n",
       "        vertical-align: top;\n",
       "    }\n",
       "\n",
       "    .dataframe thead th {\n",
       "        text-align: right;\n",
       "    }\n",
       "</style>\n",
       "<table border=\"1\" class=\"dataframe\">\n",
       "  <thead>\n",
       "    <tr style=\"text-align: right;\">\n",
       "      <th></th>\n",
       "      <th>Catalina_Surveys_ID</th>\n",
       "      <th>Numerical_ID</th>\n",
       "      <th>RA_J2000</th>\n",
       "      <th>Dec</th>\n",
       "      <th>V_mag</th>\n",
       "      <th>Period_days</th>\n",
       "      <th>Amplitude</th>\n",
       "      <th>Number_Obs</th>\n",
       "      <th>Var_Type</th>\n",
       "    </tr>\n",
       "  </thead>\n",
       "  <tbody>\n",
       "    <tr>\n",
       "      <td>0</td>\n",
       "      <td>CSS_J000020.4+103118</td>\n",
       "      <td>1109001041232</td>\n",
       "      <td>00:00:20.41</td>\n",
       "      <td>+10:31:18.9</td>\n",
       "      <td>14.62</td>\n",
       "      <td>1.491758</td>\n",
       "      <td>2.39</td>\n",
       "      <td>223</td>\n",
       "      <td>2</td>\n",
       "    </tr>\n",
       "    <tr>\n",
       "      <td>1</td>\n",
       "      <td>CSS_J000031.5-084652</td>\n",
       "      <td>1009001044997</td>\n",
       "      <td>00:00:31.50</td>\n",
       "      <td>-08:46:52.3</td>\n",
       "      <td>14.14</td>\n",
       "      <td>0.404185</td>\n",
       "      <td>0.12</td>\n",
       "      <td>163</td>\n",
       "      <td>1</td>\n",
       "    </tr>\n",
       "    <tr>\n",
       "      <td>2</td>\n",
       "      <td>CSS_J000036.9+412805</td>\n",
       "      <td>1140001063366</td>\n",
       "      <td>00:00:36.94</td>\n",
       "      <td>+41:28:05.7</td>\n",
       "      <td>17.39</td>\n",
       "      <td>0.274627</td>\n",
       "      <td>0.73</td>\n",
       "      <td>158</td>\n",
       "      <td>1</td>\n",
       "    </tr>\n",
       "    <tr>\n",
       "      <td>3</td>\n",
       "      <td>CSS_J000037.5+390308</td>\n",
       "      <td>1138001069849</td>\n",
       "      <td>00:00:37.55</td>\n",
       "      <td>+39:03:08.1</td>\n",
       "      <td>17.74</td>\n",
       "      <td>0.30691</td>\n",
       "      <td>0.23</td>\n",
       "      <td>219</td>\n",
       "      <td>1</td>\n",
       "    </tr>\n",
       "    <tr>\n",
       "      <td>4</td>\n",
       "      <td>CSS_J000103.3+105724</td>\n",
       "      <td>1109001050739</td>\n",
       "      <td>00:01:03.37</td>\n",
       "      <td>+10:57:24.4</td>\n",
       "      <td>15.25</td>\n",
       "      <td>1.5837582</td>\n",
       "      <td>0.11</td>\n",
       "      <td>223</td>\n",
       "      <td>8</td>\n",
       "    </tr>\n",
       "  </tbody>\n",
       "</table>\n",
       "</div>"
      ],
      "text/plain": [
       "    Catalina_Surveys_ID   Numerical_ID     RA_J2000          Dec  V_mag  \\\n",
       "0  CSS_J000020.4+103118  1109001041232  00:00:20.41  +10:31:18.9  14.62   \n",
       "1  CSS_J000031.5-084652  1009001044997  00:00:31.50  -08:46:52.3  14.14   \n",
       "2  CSS_J000036.9+412805  1140001063366  00:00:36.94  +41:28:05.7  17.39   \n",
       "3  CSS_J000037.5+390308  1138001069849  00:00:37.55  +39:03:08.1  17.74   \n",
       "4  CSS_J000103.3+105724  1109001050739  00:01:03.37  +10:57:24.4  15.25   \n",
       "\n",
       "  Period_days  Amplitude  Number_Obs  Var_Type  \n",
       "0    1.491758       2.39         223         2  \n",
       "1    0.404185       0.12         163         1  \n",
       "2    0.274627       0.73         158         1  \n",
       "3     0.30691       0.23         219         1  \n",
       "4   1.5837582       0.11         223         8  "
      ]
     },
     "execution_count": 5,
     "metadata": {},
     "output_type": "execute_result"
    }
   ],
   "source": [
    "cat = pd.read_csv(catalog,\n",
    "                 compression='gzip',\n",
    "                 header=5,\n",
    "                 sep=' ',\n",
    "                 skipinitialspace=True,\n",
    "                 )\n",
    "\n",
    "columns = cat.columns[1:]\n",
    "cat = cat[cat.columns[:-1]]\n",
    "cat.columns = columns\n",
    "\n",
    "cat.head()"
   ]
  },
  {
   "cell_type": "markdown",
   "metadata": {},
   "source": [
    "### Get a subset of variable types, and with minimum length of light curves\n",
    "### The classes are from Drake et al. 2014 and Mahabal et al. 2017\n",
    "### 2: EA (detached binaries), 4: RRab, 5: RRc, 6:RRd, 8: RS CVn, 13: LPV"
   ]
  },
  {
   "cell_type": "code",
   "execution_count": 6,
   "metadata": {},
   "outputs": [
    {
     "data": {
      "text/html": [
       "<div>\n",
       "<style scoped>\n",
       "    .dataframe tbody tr th:only-of-type {\n",
       "        vertical-align: middle;\n",
       "    }\n",
       "\n",
       "    .dataframe tbody tr th {\n",
       "        vertical-align: top;\n",
       "    }\n",
       "\n",
       "    .dataframe thead th {\n",
       "        text-align: right;\n",
       "    }\n",
       "</style>\n",
       "<table border=\"1\" class=\"dataframe\">\n",
       "  <thead>\n",
       "    <tr style=\"text-align: right;\">\n",
       "      <th></th>\n",
       "      <th>Catalina_Surveys_ID</th>\n",
       "      <th>Numerical_ID</th>\n",
       "      <th>RA_J2000</th>\n",
       "      <th>Dec</th>\n",
       "      <th>V_mag</th>\n",
       "      <th>Period_days</th>\n",
       "      <th>Amplitude</th>\n",
       "      <th>Number_Obs</th>\n",
       "      <th>Var_Type</th>\n",
       "    </tr>\n",
       "  </thead>\n",
       "  <tbody>\n",
       "    <tr>\n",
       "      <td>0</td>\n",
       "      <td>CSS_J000020.4+103118</td>\n",
       "      <td>1109001041232</td>\n",
       "      <td>00:00:20.41</td>\n",
       "      <td>+10:31:18.9</td>\n",
       "      <td>14.62</td>\n",
       "      <td>1.491758</td>\n",
       "      <td>2.39</td>\n",
       "      <td>223</td>\n",
       "      <td>2</td>\n",
       "    </tr>\n",
       "    <tr>\n",
       "      <td>4</td>\n",
       "      <td>CSS_J000103.3+105724</td>\n",
       "      <td>1109001050739</td>\n",
       "      <td>00:01:03.37</td>\n",
       "      <td>+10:57:24.4</td>\n",
       "      <td>15.25</td>\n",
       "      <td>1.5837582</td>\n",
       "      <td>0.11</td>\n",
       "      <td>223</td>\n",
       "      <td>8</td>\n",
       "    </tr>\n",
       "    <tr>\n",
       "      <td>8</td>\n",
       "      <td>CSS_J000131.5+324913</td>\n",
       "      <td>1132001052010</td>\n",
       "      <td>00:01:31.54</td>\n",
       "      <td>+32:49:13.1</td>\n",
       "      <td>14.71</td>\n",
       "      <td>13.049549</td>\n",
       "      <td>0.17</td>\n",
       "      <td>188</td>\n",
       "      <td>8</td>\n",
       "    </tr>\n",
       "    <tr>\n",
       "      <td>16</td>\n",
       "      <td>CSS_J000216.1-165109</td>\n",
       "      <td>1015001002091</td>\n",
       "      <td>00:02:16.16</td>\n",
       "      <td>-16:51:09.7</td>\n",
       "      <td>16.07</td>\n",
       "      <td>0.30487</td>\n",
       "      <td>0.17</td>\n",
       "      <td>124</td>\n",
       "      <td>5</td>\n",
       "    </tr>\n",
       "    <tr>\n",
       "      <td>23</td>\n",
       "      <td>CSS_J000309.5+193816</td>\n",
       "      <td>1118001060639</td>\n",
       "      <td>00:03:09.56</td>\n",
       "      <td>+19:38:16.6</td>\n",
       "      <td>17.82</td>\n",
       "      <td>1.12582</td>\n",
       "      <td>0.59</td>\n",
       "      <td>206</td>\n",
       "      <td>2</td>\n",
       "    </tr>\n",
       "  </tbody>\n",
       "</table>\n",
       "</div>"
      ],
      "text/plain": [
       "     Catalina_Surveys_ID   Numerical_ID     RA_J2000          Dec  V_mag  \\\n",
       "0   CSS_J000020.4+103118  1109001041232  00:00:20.41  +10:31:18.9  14.62   \n",
       "4   CSS_J000103.3+105724  1109001050739  00:01:03.37  +10:57:24.4  15.25   \n",
       "8   CSS_J000131.5+324913  1132001052010  00:01:31.54  +32:49:13.1  14.71   \n",
       "16  CSS_J000216.1-165109  1015001002091  00:02:16.16  -16:51:09.7  16.07   \n",
       "23  CSS_J000309.5+193816  1118001060639  00:03:09.56  +19:38:16.6  17.82   \n",
       "\n",
       "   Period_days  Amplitude  Number_Obs  Var_Type  \n",
       "0     1.491758       2.39         223         2  \n",
       "4    1.5837582       0.11         223         8  \n",
       "8    13.049549       0.17         188         8  \n",
       "16     0.30487       0.17         124         5  \n",
       "23     1.12582       0.59         206         2  "
      ]
     },
     "execution_count": 6,
     "metadata": {},
     "output_type": "execute_result"
    }
   ],
   "source": [
    "vars6 = cat[ cat['Var_Type'].isin([2,4,5,6,8,13]) & (cat['Number_Obs']>100) ]\n",
    "vars6.head()"
   ]
  },
  {
   "cell_type": "markdown",
   "metadata": {},
   "source": [
    "### Some visualizations - these are not particularly informative, but just representative that one can try at the start of an analysis."
   ]
  },
  {
   "cell_type": "code",
   "execution_count": 7,
   "metadata": {},
   "outputs": [
    {
     "name": "stdout",
     "output_type": "stream",
     "text": [
      "(13876, 9)\n"
     ]
    },
    {
     "data": {
      "text/plain": [
       "(array([4614., 1683., 5148.,  491.,    0., 1474.,    0.,    0.,    0.,\n",
       "         466.]),\n",
       " array([ 2. ,  3.1,  4.2,  5.3,  6.4,  7.5,  8.6,  9.7, 10.8, 11.9, 13. ]),\n",
       " <a list of 10 Patch objects>)"
      ]
     },
     "execution_count": 7,
     "metadata": {},
     "output_type": "execute_result"
    },
    {
     "data": {
      "image/png": "[encoded data removed]",
      "text/plain": [
       "<Figure size 432x288 with 1 Axes>"
      ]
     },
     "metadata": {
      "needs_background": "light"
     },
     "output_type": "display_data"
    }
   ],
   "source": [
    "print(vars6.shape)\n",
    "plt.hist(vars6.Var_Type)"
   ]
  },
  {
   "cell_type": "code",
   "execution_count": 8,
   "metadata": {},
   "outputs": [
    {
     "data": {
      "text/plain": [
       "[<matplotlib.lines.Line2D at 0x7f03ce51d950>]"
      ]
     },
     "execution_count": 8,
     "metadata": {},
     "output_type": "execute_result"
    },
    {
     "data": {
      "image/png": "[encoded data removed]",
      "text/plain": [
       "<Figure size 432x288 with 1 Axes>"
      ]
     },
     "metadata": {
      "needs_background": "light"
     },
     "output_type": "display_data"
    }
   ],
   "source": [
    "plt.plot(pd.to_numeric(vars6.Period_days).values, pd.to_numeric(vars6.V_mag).values, 'r.')"
   ]
  },
  {
   "cell_type": "markdown",
   "metadata": {},
   "source": [
    "### Pick two classes"
   ]
  },
  {
   "cell_type": "code",
   "execution_count": 9,
   "metadata": {},
   "outputs": [
    {
     "data": {
      "text/html": [
       "<div>\n",
       "<style scoped>\n",
       "    .dataframe tbody tr th:only-of-type {\n",
       "        vertical-align: middle;\n",
       "    }\n",
       "\n",
       "    .dataframe tbody tr th {\n",
       "        vertical-align: top;\n",
       "    }\n",
       "\n",
       "    .dataframe thead th {\n",
       "        text-align: right;\n",
       "    }\n",
       "</style>\n",
       "<table border=\"1\" class=\"dataframe\">\n",
       "  <thead>\n",
       "    <tr style=\"text-align: right;\">\n",
       "      <th></th>\n",
       "      <th>Catalina_Surveys_ID</th>\n",
       "      <th>Numerical_ID</th>\n",
       "      <th>RA_J2000</th>\n",
       "      <th>Dec</th>\n",
       "      <th>V_mag</th>\n",
       "      <th>Period_days</th>\n",
       "      <th>Amplitude</th>\n",
       "      <th>Number_Obs</th>\n",
       "      <th>Var_Type</th>\n",
       "    </tr>\n",
       "  </thead>\n",
       "  <tbody>\n",
       "    <tr>\n",
       "      <td>115</td>\n",
       "      <td>CSS_J001420.8+031214</td>\n",
       "      <td>1104002007409</td>\n",
       "      <td>00:14:20.84</td>\n",
       "      <td>+03:12:14.0</td>\n",
       "      <td>17.45</td>\n",
       "      <td>0.3871100</td>\n",
       "      <td>0.56</td>\n",
       "      <td>174</td>\n",
       "      <td>6</td>\n",
       "    </tr>\n",
       "    <tr>\n",
       "      <td>174</td>\n",
       "      <td>CSS_J001616.0-173612</td>\n",
       "      <td>1018002041429</td>\n",
       "      <td>00:16:16.00</td>\n",
       "      <td>-17:36:12.4</td>\n",
       "      <td>13.87</td>\n",
       "      <td>215.564</td>\n",
       "      <td>1.17</td>\n",
       "      <td>111</td>\n",
       "      <td>13</td>\n",
       "    </tr>\n",
       "    <tr>\n",
       "      <td>198</td>\n",
       "      <td>CSS_J001724.9+200542</td>\n",
       "      <td>1121002007726</td>\n",
       "      <td>00:17:24.90</td>\n",
       "      <td>+20:05:42.2</td>\n",
       "      <td>16.64</td>\n",
       "      <td>0.3571291</td>\n",
       "      <td>0.39</td>\n",
       "      <td>224</td>\n",
       "      <td>6</td>\n",
       "    </tr>\n",
       "    <tr>\n",
       "      <td>214</td>\n",
       "      <td>CSS_J001812.9+210201</td>\n",
       "      <td>1121002027610</td>\n",
       "      <td>00:18:12.97</td>\n",
       "      <td>+21:02:01.5</td>\n",
       "      <td>14.54</td>\n",
       "      <td>0.41616</td>\n",
       "      <td>0.34</td>\n",
       "      <td>224</td>\n",
       "      <td>6</td>\n",
       "    </tr>\n",
       "    <tr>\n",
       "      <td>328</td>\n",
       "      <td>CSS_J002230.8-183246</td>\n",
       "      <td>1018002024540</td>\n",
       "      <td>00:22:30.83</td>\n",
       "      <td>-18:32:46.1</td>\n",
       "      <td>11.72</td>\n",
       "      <td>201.28718</td>\n",
       "      <td>1.26</td>\n",
       "      <td>111</td>\n",
       "      <td>13</td>\n",
       "    </tr>\n",
       "  </tbody>\n",
       "</table>\n",
       "</div>"
      ],
      "text/plain": [
       "      Catalina_Surveys_ID   Numerical_ID     RA_J2000          Dec  V_mag  \\\n",
       "115  CSS_J001420.8+031214  1104002007409  00:14:20.84  +03:12:14.0  17.45   \n",
       "174  CSS_J001616.0-173612  1018002041429  00:16:16.00  -17:36:12.4  13.87   \n",
       "198  CSS_J001724.9+200542  1121002007726  00:17:24.90  +20:05:42.2  16.64   \n",
       "214  CSS_J001812.9+210201  1121002027610  00:18:12.97  +21:02:01.5  14.54   \n",
       "328  CSS_J002230.8-183246  1018002024540  00:22:30.83  -18:32:46.1  11.72   \n",
       "\n",
       "    Period_days  Amplitude  Number_Obs  Var_Type  \n",
       "115   0.3871100       0.56         174         6  \n",
       "174     215.564       1.17         111        13  \n",
       "198   0.3571291       0.39         224         6  \n",
       "214     0.41616       0.34         224         6  \n",
       "328   201.28718       1.26         111        13  "
      ]
     },
     "execution_count": 9,
     "metadata": {},
     "output_type": "execute_result"
    }
   ],
   "source": [
    "vars2 = vars6[ vars6['Var_Type'].isin([6,13])  ]\n",
    "vars2.head()"
   ]
  },
  {
   "cell_type": "markdown",
   "metadata": {},
   "source": [
    "### Create a 'target' column with 0|1 for the two classes"
   ]
  },
  {
   "cell_type": "code",
   "execution_count": 10,
   "metadata": {},
   "outputs": [],
   "source": [
    "Y = vars2['Var_Type'].values\n",
    "Y = np.array([1 if y==6 else 0 for y in Y])"
   ]
  },
  {
   "cell_type": "code",
   "execution_count": 11,
   "metadata": {},
   "outputs": [
    {
     "data": {
      "text/plain": [
       "array([1, 0, 1, 1, 0, 0, 1, 1, 0, 0])"
      ]
     },
     "execution_count": 11,
     "metadata": {},
     "output_type": "execute_result"
    }
   ],
   "source": [
    "Y[:10]"
   ]
  },
  {
   "cell_type": "code",
   "execution_count": 12,
   "metadata": {},
   "outputs": [],
   "source": [
    "#X = vars2.drop('Var_Type',1).as_matrix()\n",
    "X = vars2.drop('Var_Type',1)"
   ]
  },
  {
   "cell_type": "code",
   "execution_count": 40,
   "metadata": {},
   "outputs": [
    {
     "data": {
      "text/plain": [
       "array([[ 1.87866217e+02, -2.15127450e+01,  1.22101600e+00, ...,\n",
       "         1.80000000e+01,  0.00000000e+00,  0.00000000e+00],\n",
       "       [ 1.06148755e+02,  2.80312240e+01,  1.87856200e+00, ...,\n",
       "         2.30000000e+01,  0.00000000e+00,  0.00000000e+00],\n",
       "       [ 1.38476707e+02, -2.79981580e+01,  1.23161900e+00, ...,\n",
       "         2.80000000e+01,  1.00000000e+00,  0.00000000e+00],\n",
       "       ...,\n",
       "       [ 9.91946870e+01,  3.13309870e+01,  1.57500000e+00, ...,\n",
       "         2.92000000e+02,  1.40000000e+01,  3.89000000e-01],\n",
       "       [ 1.45788500e+02, -2.81257120e+01,  1.74500000e+00, ...,\n",
       "         2.41000000e+02,  1.00000000e+01,  3.25000000e-01],\n",
       "       [ 1.31527917e+02, -6.38917180e+01,  1.97000000e+00, ...,\n",
       "         4.00000000e+01,  4.00000000e+00,  1.16000000e-01]])"
      ]
     },
     "execution_count": 40,
     "metadata": {},
     "output_type": "execute_result"
    }
   ],
   "source": [
    "X"
   ]
  },
  {
   "cell_type": "code",
   "execution_count": 13,
   "metadata": {},
   "outputs": [
    {
     "name": "stderr",
     "output_type": "stream",
     "text": [
      "/home/abao/anaconda3/lib/python3.7/site-packages/pandas/core/indexing.py:376: SettingWithCopyWarning: \n",
      "A value is trying to be set on a copy of a slice from a DataFrame.\n",
      "Try using .loc[row_indexer,col_indexer] = value instead\n",
      "\n",
      "See the caveats in the documentation: http://pandas.pydata.org/pandas-docs/stable/user_guide/indexing.html#returning-a-view-versus-a-copy\n",
      "  self.obj[key] = _infer_fill_value(value)\n",
      "/home/abao/anaconda3/lib/python3.7/site-packages/pandas/core/indexing.py:494: SettingWithCopyWarning: \n",
      "A value is trying to be set on a copy of a slice from a DataFrame.\n",
      "Try using .loc[row_indexer,col_indexer] = value instead\n",
      "\n",
      "See the caveats in the documentation: http://pandas.pydata.org/pandas-docs/stable/user_guide/indexing.html#returning-a-view-versus-a-copy\n",
      "  self.obj[item] = s\n"
     ]
    }
   ],
   "source": [
    "#vars2['target'] = (vars2['Var_Type'].values==6)*1\n",
    "#vars2['target'] = Y\n",
    "vars2.loc[:,('target')] = Y"
   ]
  },
  {
   "cell_type": "code",
   "execution_count": 14,
   "metadata": {},
   "outputs": [
    {
     "data": {
      "text/html": [
       "<div>\n",
       "<style scoped>\n",
       "    .dataframe tbody tr th:only-of-type {\n",
       "        vertical-align: middle;\n",
       "    }\n",
       "\n",
       "    .dataframe tbody tr th {\n",
       "        vertical-align: top;\n",
       "    }\n",
       "\n",
       "    .dataframe thead th {\n",
       "        text-align: right;\n",
       "    }\n",
       "</style>\n",
       "<table border=\"1\" class=\"dataframe\">\n",
       "  <thead>\n",
       "    <tr style=\"text-align: right;\">\n",
       "      <th></th>\n",
       "      <th>Catalina_Surveys_ID</th>\n",
       "      <th>Numerical_ID</th>\n",
       "      <th>RA_J2000</th>\n",
       "      <th>Dec</th>\n",
       "      <th>V_mag</th>\n",
       "      <th>Period_days</th>\n",
       "      <th>Amplitude</th>\n",
       "      <th>Number_Obs</th>\n",
       "      <th>Var_Type</th>\n",
       "      <th>target</th>\n",
       "    </tr>\n",
       "  </thead>\n",
       "  <tbody>\n",
       "    <tr>\n",
       "      <td>115</td>\n",
       "      <td>CSS_J001420.8+031214</td>\n",
       "      <td>1104002007409</td>\n",
       "      <td>00:14:20.84</td>\n",
       "      <td>+03:12:14.0</td>\n",
       "      <td>17.45</td>\n",
       "      <td>0.3871100</td>\n",
       "      <td>0.56</td>\n",
       "      <td>174</td>\n",
       "      <td>6</td>\n",
       "      <td>1</td>\n",
       "    </tr>\n",
       "    <tr>\n",
       "      <td>174</td>\n",
       "      <td>CSS_J001616.0-173612</td>\n",
       "      <td>1018002041429</td>\n",
       "      <td>00:16:16.00</td>\n",
       "      <td>-17:36:12.4</td>\n",
       "      <td>13.87</td>\n",
       "      <td>215.564</td>\n",
       "      <td>1.17</td>\n",
       "      <td>111</td>\n",
       "      <td>13</td>\n",
       "      <td>0</td>\n",
       "    </tr>\n",
       "    <tr>\n",
       "      <td>198</td>\n",
       "      <td>CSS_J001724.9+200542</td>\n",
       "      <td>1121002007726</td>\n",
       "      <td>00:17:24.90</td>\n",
       "      <td>+20:05:42.2</td>\n",
       "      <td>16.64</td>\n",
       "      <td>0.3571291</td>\n",
       "      <td>0.39</td>\n",
       "      <td>224</td>\n",
       "      <td>6</td>\n",
       "      <td>1</td>\n",
       "    </tr>\n",
       "    <tr>\n",
       "      <td>214</td>\n",
       "      <td>CSS_J001812.9+210201</td>\n",
       "      <td>1121002027610</td>\n",
       "      <td>00:18:12.97</td>\n",
       "      <td>+21:02:01.5</td>\n",
       "      <td>14.54</td>\n",
       "      <td>0.41616</td>\n",
       "      <td>0.34</td>\n",
       "      <td>224</td>\n",
       "      <td>6</td>\n",
       "      <td>1</td>\n",
       "    </tr>\n",
       "    <tr>\n",
       "      <td>328</td>\n",
       "      <td>CSS_J002230.8-183246</td>\n",
       "      <td>1018002024540</td>\n",
       "      <td>00:22:30.83</td>\n",
       "      <td>-18:32:46.1</td>\n",
       "      <td>11.72</td>\n",
       "      <td>201.28718</td>\n",
       "      <td>1.26</td>\n",
       "      <td>111</td>\n",
       "      <td>13</td>\n",
       "      <td>0</td>\n",
       "    </tr>\n",
       "  </tbody>\n",
       "</table>\n",
       "</div>"
      ],
      "text/plain": [
       "      Catalina_Surveys_ID   Numerical_ID     RA_J2000          Dec  V_mag  \\\n",
       "115  CSS_J001420.8+031214  1104002007409  00:14:20.84  +03:12:14.0  17.45   \n",
       "174  CSS_J001616.0-173612  1018002041429  00:16:16.00  -17:36:12.4  13.87   \n",
       "198  CSS_J001724.9+200542  1121002007726  00:17:24.90  +20:05:42.2  16.64   \n",
       "214  CSS_J001812.9+210201  1121002027610  00:18:12.97  +21:02:01.5  14.54   \n",
       "328  CSS_J002230.8-183246  1018002024540  00:22:30.83  -18:32:46.1  11.72   \n",
       "\n",
       "    Period_days  Amplitude  Number_Obs  Var_Type  target  \n",
       "115   0.3871100       0.56         174         6       1  \n",
       "174     215.564       1.17         111        13       0  \n",
       "198   0.3571291       0.39         224         6       1  \n",
       "214     0.41616       0.34         224         6       1  \n",
       "328   201.28718       1.26         111        13       0  "
      ]
     },
     "execution_count": 14,
     "metadata": {},
     "output_type": "execute_result"
    }
   ],
   "source": [
    "vars2.head()"
   ]
  },
  {
   "cell_type": "code",
   "execution_count": 15,
   "metadata": {},
   "outputs": [
    {
     "data": {
      "text/plain": [
       "array([1, 0, 1, 1, 0, 0, 1, 1, 0, 0])"
      ]
     },
     "execution_count": 15,
     "metadata": {},
     "output_type": "execute_result"
    }
   ],
   "source": [
    "Y[:10]"
   ]
  },
  {
   "cell_type": "code",
   "execution_count": 16,
   "metadata": {},
   "outputs": [
    {
     "data": {
      "text/html": [
       "<div>\n",
       "<style scoped>\n",
       "    .dataframe tbody tr th:only-of-type {\n",
       "        vertical-align: middle;\n",
       "    }\n",
       "\n",
       "    .dataframe tbody tr th {\n",
       "        vertical-align: top;\n",
       "    }\n",
       "\n",
       "    .dataframe thead th {\n",
       "        text-align: right;\n",
       "    }\n",
       "</style>\n",
       "<table border=\"1\" class=\"dataframe\">\n",
       "  <thead>\n",
       "    <tr style=\"text-align: right;\">\n",
       "      <th></th>\n",
       "      <th>Catalina_Surveys_ID</th>\n",
       "      <th>Numerical_ID</th>\n",
       "      <th>RA_J2000</th>\n",
       "      <th>Dec</th>\n",
       "      <th>V_mag</th>\n",
       "      <th>Period_days</th>\n",
       "      <th>Amplitude</th>\n",
       "      <th>Number_Obs</th>\n",
       "    </tr>\n",
       "  </thead>\n",
       "  <tbody>\n",
       "    <tr>\n",
       "      <td>115</td>\n",
       "      <td>CSS_J001420.8+031214</td>\n",
       "      <td>1104002007409</td>\n",
       "      <td>00:14:20.84</td>\n",
       "      <td>+03:12:14.0</td>\n",
       "      <td>17.45</td>\n",
       "      <td>0.3871100</td>\n",
       "      <td>0.56</td>\n",
       "      <td>174</td>\n",
       "    </tr>\n",
       "    <tr>\n",
       "      <td>174</td>\n",
       "      <td>CSS_J001616.0-173612</td>\n",
       "      <td>1018002041429</td>\n",
       "      <td>00:16:16.00</td>\n",
       "      <td>-17:36:12.4</td>\n",
       "      <td>13.87</td>\n",
       "      <td>215.564</td>\n",
       "      <td>1.17</td>\n",
       "      <td>111</td>\n",
       "    </tr>\n",
       "    <tr>\n",
       "      <td>198</td>\n",
       "      <td>CSS_J001724.9+200542</td>\n",
       "      <td>1121002007726</td>\n",
       "      <td>00:17:24.90</td>\n",
       "      <td>+20:05:42.2</td>\n",
       "      <td>16.64</td>\n",
       "      <td>0.3571291</td>\n",
       "      <td>0.39</td>\n",
       "      <td>224</td>\n",
       "    </tr>\n",
       "  </tbody>\n",
       "</table>\n",
       "</div>"
      ],
      "text/plain": [
       "      Catalina_Surveys_ID   Numerical_ID     RA_J2000          Dec  V_mag  \\\n",
       "115  CSS_J001420.8+031214  1104002007409  00:14:20.84  +03:12:14.0  17.45   \n",
       "174  CSS_J001616.0-173612  1018002041429  00:16:16.00  -17:36:12.4  13.87   \n",
       "198  CSS_J001724.9+200542  1121002007726  00:17:24.90  +20:05:42.2  16.64   \n",
       "\n",
       "    Period_days  Amplitude  Number_Obs  \n",
       "115   0.3871100       0.56         174  \n",
       "174     215.564       1.17         111  \n",
       "198   0.3571291       0.39         224  "
      ]
     },
     "execution_count": 16,
     "metadata": {},
     "output_type": "execute_result"
    }
   ],
   "source": [
    "#X[:3,:]\n",
    "X[:3]"
   ]
  },
  {
   "cell_type": "markdown",
   "metadata": {},
   "source": [
    "### Create a training sample with 60% of the objects"
   ]
  },
  {
   "cell_type": "code",
   "execution_count": 17,
   "metadata": {},
   "outputs": [],
   "source": [
    "# Create test/train mask\n",
    "itrain, itest = train_test_split(range(vars2.shape[0]), train_size=0.6)\n",
    "mask=np.ones(vars2.shape[0], dtype='int')\n",
    "mask[itrain]=1\n",
    "mask[itest]=0\n",
    "mask = (mask==1)"
   ]
  },
  {
   "cell_type": "code",
   "execution_count": 18,
   "metadata": {},
   "outputs": [
    {
     "data": {
      "text/plain": [
       "array([False,  True,  True, False, False,  True,  True,  True,  True,\n",
       "        True])"
      ]
     },
     "execution_count": 18,
     "metadata": {},
     "output_type": "execute_result"
    }
   ],
   "source": [
    "mask[:10]"
   ]
  },
  {
   "cell_type": "code",
   "execution_count": 19,
   "metadata": {},
   "outputs": [
    {
     "name": "stdout",
     "output_type": "stream",
     "text": [
      "% Class 6 objects in Training: 0.49825783972125437 0.4999969648683524\n",
      "% Class 13 objects in Testing: 0.5352480417754569 0.49875602808487035\n"
     ]
    }
   ],
   "source": [
    "print(\"% Class 6 objects in Training:\", np.mean(vars2.target[mask]), np.std((vars2.target[mask])))\n",
    "print(\"% Class 13 objects in Testing:\", np.mean(vars2.target[~mask]), np.std((vars2.target[~mask])))"
   ]
  },
  {
   "cell_type": "markdown",
   "metadata": {},
   "source": [
    "## A bit about Decision Trees\n",
    "\n",
    "One builds a decision tree using one or more predictors:\n",
    "\n",
    "Here we want to classify variable astronomical sources (e.g. EA, RRab, RRc, RRd, RS CVn, LPV etc.) using a few features we have access to viz. V_mag, Period_days, Amplitude, Number_Obs (note that not all of these may be good or useful for our purpose).\n",
    "\n",
    "Generically let's call them  𝑋𝑖1,𝑋𝑖2,...,𝑋𝑖𝑝  ( 𝑖  for source type,  𝑝  for predictors). We also have an observed label  𝑌𝑖  for each type of variable.\n",
    "\n",
    "We first assign everyone to the same class, say  𝑌̂ 𝑖=1 . We can calculate the squared error  𝐸𝑟𝑟=∑𝑖(𝑌̂ 𝑖−𝑌𝑖)2 \n",
    "At each step of the algorithm we consider a list of possible decision (or split), for example  𝑋12>35 , i.e. period is greater than 35.\n",
    "For each possible decision we recalculate the predictor for that rule, for example  𝑌̂ 𝑖=6  if  𝑋12>35  and  Y i=13 if X<35.\n",
    "We recalculate the error for each possible decision:  𝐸𝑟𝑟=∑𝑖(𝑌̂ 𝑖−𝑌𝑖)2 \n",
    "We choose the decision that reduces the error by the largest amount\n",
    "then keep going (if there are multiple predictors). The Err term is our impurity/loss function."
   ]
  },
  {
   "cell_type": "markdown",
   "metadata": {},
   "source": [
    "### Define a few functions we will be using"
   ]
  },
  {
   "cell_type": "code",
   "execution_count": 20,
   "metadata": {},
   "outputs": [],
   "source": [
    "def display_dt(dt):\n",
    "    dummy_io = io.StringIO() \n",
    "    tree.export_graphviz(dt, out_file = dummy_io, proportion=True) \n",
    "    print(dummy_io.getvalue())"
   ]
  },
  {
   "cell_type": "code",
   "execution_count": 21,
   "metadata": {},
   "outputs": [],
   "source": [
    "# This function creates images of tree models using pydotplus\n",
    "# https://github.com/JWarmenhoven/ISLR-python\n",
    "def print_tree(estimator, features, class_names=None, filled=True):\n",
    "    tree = estimator\n",
    "    names = features\n",
    "    color = filled\n",
    "    classn = class_names\n",
    "    \n",
    "    dot_data = io.StringIO()\n",
    "    export_graphviz(estimator, out_file=dot_data, feature_names=features, proportion=True, class_names=classn, filled=filled)\n",
    "    graph = pydotplus.graph_from_dot_data(dot_data.getvalue())\n",
    "    return(graph)"
   ]
  },
  {
   "cell_type": "code",
   "execution_count": 22,
   "metadata": {},
   "outputs": [],
   "source": [
    "# - - - - - - - - - - - - - - - - - - - - - - - - - - - - - - - - - - - - - - - - - - #\n",
    "# Important parameters\n",
    "# indf - Input dataframe\n",
    "# featurenames - vector of names of predictors\n",
    "# targetname - name of column you want to predict (e.g. 0 or 1, 'M' or 'F', \n",
    "#              'yes' or 'no')\n",
    "# target1val - particular value you want to have as a 1 in the target\n",
    "# mask - boolean vector indicating test set (~mask is training set)\n",
    "# reuse_split - dictionary that contains traning and testing dataframes \n",
    "#              (we'll use this to test different classifiers on the same \n",
    "#              test-train splits)\n",
    "# score_func - we've used the accuracy as a way of scoring algorithms but \n",
    "#              this can be more general later on\n",
    "# n_folds - Number of folds for cross validation ()\n",
    "# n_jobs - used for parallelization\n",
    "# - - - - - - - - - - - - - - - - - - - - - - - - - - - - - - - - - - - - - - - - - - #\n",
    "\n",
    "def do_classify(clf, parameters, indf, featurenames, targetname, target1val, mask=None, reuse_split=None, score_func=None, n_folds=5, n_jobs=1):\n",
    "    subdf=indf[featurenames]\n",
    "    X=subdf.values\n",
    "    y=(indf[targetname].values==target1val)*1\n",
    "    if mask.any() !=None:\n",
    "        print(\"using mask\")\n",
    "        Xtrain, Xtest, ytrain, ytest = X[mask], X[~mask], y[mask], y[~mask]\n",
    "    if reuse_split !=None:\n",
    "        print(\"using reuse split\")\n",
    "        Xtrain, Xtest, ytrain, ytest = reuse_split['Xtrain'], reuse_split['Xtest'], reuse_split['ytrain'], reuse_split['ytest']\n",
    "    if parameters:\n",
    "        clf = cv_optimize(clf, parameters, Xtrain, ytrain, n_jobs=n_jobs, n_folds=n_folds, score_func=score_func)\n",
    "    clf=clf.fit(Xtrain, ytrain)\n",
    "    training_accuracy = clf.score(Xtrain, ytrain)\n",
    "    test_accuracy = clf.score(Xtest, ytest)\n",
    "    print(\"############# based on standard predict ################\")\n",
    "    print(\"Accuracy on training data: %0.2f\" % (training_accuracy))\n",
    "    print(\"Accuracy on test data:     %0.2f\" % (test_accuracy))\n",
    "    print(confusion_matrix(ytest, clf.predict(Xtest)))\n",
    "    print(\"########################################################\")\n",
    "    return(clf, Xtrain, ytrain, Xtest, ytest)"
   ]
  },
  {
   "cell_type": "markdown",
   "metadata": {},
   "source": [
    "### Run the decision tree model and get a confusion matrix\n",
    "### We will use the V magnitude and period as variables\n",
    "### We will use the gini index"
   ]
  },
  {
   "cell_type": "markdown",
   "metadata": {},
   "source": [
    "Let's first fit on two covariates to help us visualize what's going on. Have a look at the options on the help page <https://scikit-learn.org/stable/modules/generated/sklearn.tree.DecisionTreeClassifier.html>. We'll be optimizing over two options here: max_depth - the maximum depth of the tree, min_samples_leaf - the minimum number of samples required to be at a leaf node."
   ]
  },
  {
   "cell_type": "markdown",
   "metadata": {},
   "source": [
    "Assuming the root note is S, and S' iterates over leaf notes such that the union of S'=S. Then the Gini impurity measures L(S') = |S'|  1− p_{S'}^2 − (1− p_{S'})^2, where p_{S'} is the fraction of S' that are positive examples"
   ]
  },
  {
   "cell_type": "markdown",
   "metadata": {},
   "source": [
    "<img src=\"data/addSlides.jpg\">"
   ]
  },
  {
   "cell_type": "code",
   "execution_count": 23,
   "metadata": {},
   "outputs": [
    {
     "name": "stdout",
     "output_type": "stream",
     "text": [
      "############# based on standard predict ################\n",
      "Accuracy on training data: 1.00\n",
      "Accuracy on test data:     1.00\n",
      "[[178   0]\n",
      " [  0 205]]\n",
      "########################################################\n"
     ]
    }
   ],
   "source": [
    "clfTree1 = tree.DecisionTreeClassifier(max_depth=3, criterion='gini')\n",
    "\n",
    "subdf=vars2[['V_mag', 'Period_days']]\n",
    "X=subdf.values\n",
    "y=(vars2['target'].values==1)*1\n",
    "\n",
    "# TRAINING AND TESTING\n",
    "Xtrain, Xtest, ytrain, ytest = X[mask], X[~mask], y[mask], y[~mask]\n",
    "\n",
    "# FIT THE TREE \n",
    "clf=clfTree1.fit(Xtrain, ytrain)\n",
    "\n",
    "training_accuracy = clf.score(Xtrain, ytrain)\n",
    "test_accuracy = clf.score(Xtest, ytest)\n",
    "print(\"############# based on standard predict ################\")\n",
    "print(\"Accuracy on training data: %0.2f\" % (training_accuracy))\n",
    "print(\"Accuracy on test data:     %0.2f\" % (test_accuracy))\n",
    "print(confusion_matrix(ytest, clf.predict(Xtest)))\n",
    "print(\"########################################################\")"
   ]
  },
  {
   "cell_type": "markdown",
   "metadata": {},
   "source": [
    "### Yeah, we got perfect classification!\n",
    "### But there is a good reason for it. In fact two.\n",
    "### (1) Period is not a good variable to use for classification - if you have the period of an object, you already know a lot\n",
    "### (2) In this particular case, the periods for the two classes are very distinct from each other and so they are easy to separate when period is used as one of the variables."
   ]
  },
  {
   "cell_type": "code",
   "execution_count": 24,
   "metadata": {},
   "outputs": [
    {
     "data": {
      "text/plain": [
       "(574, 383, 574, 383)"
      ]
     },
     "execution_count": 24,
     "metadata": {},
     "output_type": "execute_result"
    }
   ],
   "source": [
    "len(Xtrain), len(Xtest), len(ytrain), len(ytest)"
   ]
  },
  {
   "cell_type": "code",
   "execution_count": 25,
   "metadata": {},
   "outputs": [
    {
     "name": "stdout",
     "output_type": "stream",
     "text": [
      "digraph Tree {\n",
      "node [shape=box] ;\n",
      "0 [label=\"X[1] <= 35.422\\ngini = 0.5\\nsamples = 100.0%\\nvalue = [0.502, 0.498]\"] ;\n",
      "1 [label=\"gini = 0.0\\nsamples = 49.8%\\nvalue = [0.0, 1.0]\"] ;\n",
      "0 -> 1 [labeldistance=2.5, labelangle=45, headlabel=\"True\"] ;\n",
      "2 [label=\"gini = 0.0\\nsamples = 50.2%\\nvalue = [1.0, 0.0]\"] ;\n",
      "0 -> 2 [labeldistance=2.5, labelangle=-45, headlabel=\"False\"] ;\n",
      "}\n"
     ]
    }
   ],
   "source": [
    "display_dt(clf)"
   ]
  },
  {
   "cell_type": "code",
   "execution_count": 26,
   "metadata": {},
   "outputs": [
    {
     "data": {
      "image/png": "[encoded data removed]",
      "text/plain": [
       "<IPython.core.display.Image object>"
      ]
     },
     "execution_count": 26,
     "metadata": {},
     "output_type": "execute_result"
    }
   ],
   "source": [
    "graph3 = print_tree(clf, features=['V_mag', 'Period_days'], class_names=['No', 'Yes'])\n",
    "Image(graph3.create_png())"
   ]
  },
  {
   "cell_type": "markdown",
   "metadata": {},
   "source": [
    "### Let us include all the steps above in a function"
   ]
  },
  {
   "cell_type": "code",
   "execution_count": 27,
   "metadata": {},
   "outputs": [],
   "source": [
    "def dtclassify(allclasses,class1,class2,var1,var2):\n",
    "    vars2 = allclasses[ allclasses['Var_Type'].isin([class1,class2])  ]\n",
    "    Y = vars2['Var_Type'].values\n",
    "    Y = np.array([1 if y==6 else 0 for y in Y])\n",
    "#    X = vars2.drop('Var_Type',1).as_matrix()\n",
    "    X = vars2.drop('Var_Type',1)\n",
    "#    vars2['target'] = (vars2['Var_Type'].values==class1)*1\n",
    "    vars2.loc[:,('target')] = Y\n",
    "    \n",
    "    # Create test/train mask\n",
    "    itrain, itest = train_test_split(range(vars2.shape[0]), train_size=0.6)\n",
    "    mask=np.ones(vars2.shape[0], dtype='int')\n",
    "    mask[itrain]=1\n",
    "    mask[itest]=0\n",
    "    mask = (mask==1)\n",
    "    \n",
    "    print(\"% Class \",class1,\" objects in Training:\", np.mean(vars2.target[mask]), np.std((vars2.target[mask])))\n",
    "    print(\"% Class \",class2,\" objects in Testing:\", np.mean(vars2.target[~mask]), np.std((vars2.target[~mask])))\n",
    "    \n",
    "    clfTree1 = tree.DecisionTreeClassifier(max_depth=3, criterion='gini')\n",
    "\n",
    "    subdf=vars2[[var1, var2]]\n",
    "    X=subdf.values\n",
    "#    y=(vars2['target'].values==1)*1\n",
    "#    print('y is ',y[:10])\n",
    "    y = vars2.loc[:,('target')].values==1*1\n",
    "#    print('y is ',y[:10])\n",
    "\n",
    "    # TRAINING AND TESTING\n",
    "    Xtrain, Xtest, ytrain, ytest = X[mask], X[~mask], y[mask], y[~mask]\n",
    "\n",
    "    # FIT THE TREE \n",
    "    clf=clfTree1.fit(Xtrain, ytrain)\n",
    "\n",
    "    training_accuracy = clf.score(Xtrain, ytrain)\n",
    "    test_accuracy = clf.score(Xtest, ytest)\n",
    "    print(\"############# based on standard predict ################\")\n",
    "    print(\"Accuracy on training data: %0.2f\" % (training_accuracy))\n",
    "    print(\"Accuracy on test data:     %0.2f\" % (test_accuracy))\n",
    "    print(confusion_matrix(ytest, clf.predict(Xtest)))\n",
    "    print(\"########################################################\")\n",
    "    \n",
    "    display_dt(clf)\n",
    "    return [clf,var1,var2]\n",
    "    \n",
    "#    graph3 = print_tree(clf, features=[var1, var2], class_names=['No', 'Yes'])\n",
    "#    Image(graph3.create_png())\n",
    "    \n"
   ]
  },
  {
   "cell_type": "code",
   "execution_count": 28,
   "metadata": {},
   "outputs": [],
   "source": [
    "# A generic function to do CV\n",
    "\n",
    "def cv_optimize(clf, parameters, X, y, n_jobs=1, n_folds=5, score_func=None):\n",
    "    if score_func:\n",
    "        gs = GridSearchCV(clf, param_grid=parameters, cv=n_folds, n_jobs=n_jobs, scoring=score_func)\n",
    "    else:\n",
    "        gs = GridSearchCV(clf, param_grid=parameters, n_jobs=n_jobs, cv=n_folds)\n",
    "    gs.fit(X, y)\n",
    "\n",
    "    best = gs.best_estimator_\n",
    "    return best"
   ]
  },
  {
   "cell_type": "markdown",
   "metadata": {},
   "source": [
    "### First try it again with variables we have already tried"
   ]
  },
  {
   "cell_type": "code",
   "execution_count": 29,
   "metadata": {},
   "outputs": [
    {
     "name": "stdout",
     "output_type": "stream",
     "text": [
      "% Class  6  objects in Training: 0.5087108013937283 0.4999241161807251\n",
      "% Class  13  objects in Testing: 0.5195822454308094 0.49961638850610895\n",
      "############# based on standard predict ################\n",
      "Accuracy on training data: 1.00\n",
      "Accuracy on test data:     1.00\n",
      "[[184   0]\n",
      " [  0 199]]\n",
      "########################################################\n",
      "digraph Tree {\n",
      "node [shape=box] ;\n",
      "0 [label=\"X[1] <= 35.382\\ngini = 0.5\\nsamples = 100.0%\\nvalue = [0.491, 0.509]\"] ;\n",
      "1 [label=\"gini = 0.0\\nsamples = 50.9%\\nvalue = [0.0, 1.0]\"] ;\n",
      "0 -> 1 [labeldistance=2.5, labelangle=45, headlabel=\"True\"] ;\n",
      "2 [label=\"gini = 0.0\\nsamples = 49.1%\\nvalue = [1.0, 0.0]\"] ;\n",
      "0 -> 2 [labeldistance=2.5, labelangle=-45, headlabel=\"False\"] ;\n",
      "}\n"
     ]
    },
    {
     "name": "stderr",
     "output_type": "stream",
     "text": [
      "/home/abao/anaconda3/lib/python3.7/site-packages/pandas/core/indexing.py:376: SettingWithCopyWarning: \n",
      "A value is trying to be set on a copy of a slice from a DataFrame.\n",
      "Try using .loc[row_indexer,col_indexer] = value instead\n",
      "\n",
      "See the caveats in the documentation: http://pandas.pydata.org/pandas-docs/stable/user_guide/indexing.html#returning-a-view-versus-a-copy\n",
      "  self.obj[key] = _infer_fill_value(value)\n",
      "/home/abao/anaconda3/lib/python3.7/site-packages/pandas/core/indexing.py:494: SettingWithCopyWarning: \n",
      "A value is trying to be set on a copy of a slice from a DataFrame.\n",
      "Try using .loc[row_indexer,col_indexer] = value instead\n",
      "\n",
      "See the caveats in the documentation: http://pandas.pydata.org/pandas-docs/stable/user_guide/indexing.html#returning-a-view-versus-a-copy\n",
      "  self.obj[item] = s\n"
     ]
    },
    {
     "data": {
      "text/plain": [
       "[DecisionTreeClassifier(max_depth=3), 'V_mag', 'Period_days']"
      ]
     },
     "execution_count": 29,
     "metadata": {},
     "output_type": "execute_result"
    }
   ],
   "source": [
    "dtclassify(vars6,6,13,'V_mag','Period_days')"
   ]
  },
  {
   "cell_type": "code",
   "execution_count": 30,
   "metadata": {},
   "outputs": [
    {
     "data": {
      "image/png": "[encoded data removed]",
      "text/plain": [
       "<IPython.core.display.Image object>"
      ]
     },
     "execution_count": 30,
     "metadata": {},
     "output_type": "execute_result"
    }
   ],
   "source": [
    "graph3 = print_tree(clf, features=['V_mag', 'Period_days'], class_names=['No', 'Yes'])\n",
    "Image(graph3.create_png())"
   ]
  },
  {
   "cell_type": "markdown",
   "metadata": {},
   "source": [
    "### And now with other classes and variables\n",
    "### unbalanced classes in this case"
   ]
  },
  {
   "cell_type": "code",
   "execution_count": 31,
   "metadata": {
    "scrolled": true
   },
   "outputs": [
    {
     "name": "stdout",
     "output_type": "stream",
     "text": [
      "% Class  6  objects in Training: 0.24851569126378287 0.43215233709823175\n",
      "% Class  8  objects in Testing: 0.25190839694656486 0.43410892238512994\n",
      "############# based on standard predict ################\n",
      "Accuracy on training data: 0.84\n",
      "Accuracy on test data:     0.83\n",
      "[[518  70]\n",
      " [ 67 131]]\n",
      "########################################################\n",
      "digraph Tree {\n",
      "node [shape=box] ;\n",
      "0 [label=\"X[1] <= 0.315\\ngini = 0.374\\nsamples = 100.0%\\nvalue = [0.751, 0.249]\"] ;\n",
      "1 [label=\"X[1] <= 0.255\\ngini = 0.152\\nsamples = 68.5%\\nvalue = [0.917, 0.083]\"] ;\n",
      "0 -> 1 [labeldistance=2.5, labelangle=45, headlabel=\"True\"] ;\n",
      "2 [label=\"X[1] <= 0.195\\ngini = 0.079\\nsamples = 55.6%\\nvalue = [0.959, 0.041]\"] ;\n",
      "1 -> 2 ;\n",
      "3 [label=\"gini = 0.025\\nsamples = 41.0%\\nvalue = [0.988, 0.012]\"] ;\n",
      "2 -> 3 ;\n",
      "4 [label=\"gini = 0.213\\nsamples = 14.7%\\nvalue = [0.879, 0.121]\"] ;\n",
      "2 -> 4 ;\n",
      "5 [label=\"X[0] <= 12.895\\ngini = 0.388\\nsamples = 12.9%\\nvalue = [0.737, 0.263]\"] ;\n",
      "1 -> 5 ;\n",
      "6 [label=\"gini = 0.444\\nsamples = 0.5%\\nvalue = [0.333, 0.667]\"] ;\n",
      "5 -> 6 ;\n",
      "7 [label=\"gini = 0.372\\nsamples = 12.4%\\nvalue = [0.753, 0.247]\"] ;\n",
      "5 -> 7 ;\n",
      "8 [label=\"X[0] <= 17.31\\ngini = 0.476\\nsamples = 31.5%\\nvalue = [0.391, 0.609]\"] ;\n",
      "0 -> 8 [labeldistance=2.5, labelangle=-45, headlabel=\"False\"] ;\n",
      "9 [label=\"X[0] <= 13.46\\ngini = 0.456\\nsamples = 28.2%\\nvalue = [0.352, 0.648]\"] ;\n",
      "8 -> 9 ;\n",
      "10 [label=\"gini = 0.477\\nsamples = 2.4%\\nvalue = [0.607, 0.393]\"] ;\n",
      "9 -> 10 ;\n",
      "11 [label=\"gini = 0.441\\nsamples = 25.8%\\nvalue = [0.329, 0.671]\"] ;\n",
      "9 -> 11 ;\n",
      "12 [label=\"X[0] <= 18.225\\ngini = 0.405\\nsamples = 3.3%\\nvalue = [0.718, 0.282]\"] ;\n",
      "8 -> 12 ;\n",
      "13 [label=\"gini = 0.471\\nsamples = 2.5%\\nvalue = [0.621, 0.379]\"] ;\n",
      "12 -> 13 ;\n",
      "14 [label=\"gini = 0.0\\nsamples = 0.8%\\nvalue = [1.0, 0.0]\"] ;\n",
      "12 -> 14 ;\n",
      "}\n"
     ]
    },
    {
     "name": "stderr",
     "output_type": "stream",
     "text": [
      "/home/abao/anaconda3/lib/python3.7/site-packages/pandas/core/indexing.py:376: SettingWithCopyWarning: \n",
      "A value is trying to be set on a copy of a slice from a DataFrame.\n",
      "Try using .loc[row_indexer,col_indexer] = value instead\n",
      "\n",
      "See the caveats in the documentation: http://pandas.pydata.org/pandas-docs/stable/user_guide/indexing.html#returning-a-view-versus-a-copy\n",
      "  self.obj[key] = _infer_fill_value(value)\n",
      "/home/abao/anaconda3/lib/python3.7/site-packages/pandas/core/indexing.py:494: SettingWithCopyWarning: \n",
      "A value is trying to be set on a copy of a slice from a DataFrame.\n",
      "Try using .loc[row_indexer,col_indexer] = value instead\n",
      "\n",
      "See the caveats in the documentation: http://pandas.pydata.org/pandas-docs/stable/user_guide/indexing.html#returning-a-view-versus-a-copy\n",
      "  self.obj[item] = s\n"
     ]
    }
   ],
   "source": [
    "[clf,var1,var2] = dtclassify(vars6,6,8,'V_mag','Amplitude')"
   ]
  },
  {
   "cell_type": "code",
   "execution_count": 32,
   "metadata": {},
   "outputs": [
    {
     "data": {
      "image/png": "[encoded data removed]",
      "text/plain": [
       "<IPython.core.display.Image object>"
      ]
     },
     "execution_count": 32,
     "metadata": {},
     "output_type": "execute_result"
    }
   ],
   "source": [
    "graph3 = print_tree(clf, features=[var1, var2], class_names=['No', 'Yes'])\n",
    "Image(graph3.create_png())"
   ]
  },
  {
   "cell_type": "code",
   "execution_count": 33,
   "metadata": {},
   "outputs": [
    {
     "data": {
      "text/plain": [
       "DecisionTreeClassifier(max_depth=3)"
      ]
     },
     "execution_count": 33,
     "metadata": {},
     "output_type": "execute_result"
    }
   ],
   "source": [
    "clf"
   ]
  },
  {
   "cell_type": "markdown",
   "metadata": {},
   "source": [
    "### Lets look at features derived from light curves now, and use them to see if we can separate CVs and Blazars\n",
    "### This is a different dataset than before"
   ]
  },
  {
   "cell_type": "code",
   "execution_count": 34,
   "metadata": {},
   "outputs": [
    {
     "data": {
      "text/html": [
       "<div>\n",
       "<style scoped>\n",
       "    .dataframe tbody tr th:only-of-type {\n",
       "        vertical-align: middle;\n",
       "    }\n",
       "\n",
       "    .dataframe tbody tr th {\n",
       "        vertical-align: top;\n",
       "    }\n",
       "\n",
       "    .dataframe thead th {\n",
       "        text-align: right;\n",
       "    }\n",
       "</style>\n",
       "<table border=\"1\" class=\"dataframe\">\n",
       "  <thead>\n",
       "    <tr style=\"text-align: right;\">\n",
       "      <th></th>\n",
       "      <th>source_id</th>\n",
       "      <th>id2</th>\n",
       "      <th>RA</th>\n",
       "      <th>Dec</th>\n",
       "      <th>gl</th>\n",
       "      <th>gb</th>\n",
       "      <th>amplitude</th>\n",
       "      <th>beyond1std</th>\n",
       "      <th>fpr_mid20</th>\n",
       "      <th>fpr_mid35</th>\n",
       "      <th>...</th>\n",
       "      <th>percent_amplitude</th>\n",
       "      <th>pdfp</th>\n",
       "      <th>skew</th>\n",
       "      <th>kurtosis</th>\n",
       "      <th>std</th>\n",
       "      <th>magratio</th>\n",
       "      <th>data_num</th>\n",
       "      <th>npeaks</th>\n",
       "      <th>peakstats</th>\n",
       "      <th>Var_Type</th>\n",
       "    </tr>\n",
       "  </thead>\n",
       "  <tbody>\n",
       "    <tr>\n",
       "      <td>0</td>\n",
       "      <td>CSS071112:024457+352249</td>\n",
       "      <td>6012213501311032988</td>\n",
       "      <td>41.239291</td>\n",
       "      <td>35.380553</td>\n",
       "      <td>187.866217</td>\n",
       "      <td>-21.512745</td>\n",
       "      <td>1.221016</td>\n",
       "      <td>0.333333</td>\n",
       "      <td>0.105355</td>\n",
       "      <td>0.271527</td>\n",
       "      <td>...</td>\n",
       "      <td>0.819420</td>\n",
       "      <td>1.479632</td>\n",
       "      <td>1.023488</td>\n",
       "      <td>0.083616</td>\n",
       "      <td>0.680993</td>\n",
       "      <td>0.500000</td>\n",
       "      <td>18</td>\n",
       "      <td>0</td>\n",
       "      <td>0.0</td>\n",
       "      <td>0</td>\n",
       "    </tr>\n",
       "    <tr>\n",
       "      <td>1</td>\n",
       "      <td>CSS071112:085823-003729</td>\n",
       "      <td>5120100104811037790</td>\n",
       "      <td>134.595171</td>\n",
       "      <td>-0.624753</td>\n",
       "      <td>106.148755</td>\n",
       "      <td>28.031224</td>\n",
       "      <td>1.878562</td>\n",
       "      <td>0.130435</td>\n",
       "      <td>0.077322</td>\n",
       "      <td>0.203941</td>\n",
       "      <td>...</td>\n",
       "      <td>0.949115</td>\n",
       "      <td>1.369243</td>\n",
       "      <td>1.425266</td>\n",
       "      <td>0.807734</td>\n",
       "      <td>1.062428</td>\n",
       "      <td>0.478261</td>\n",
       "      <td>23</td>\n",
       "      <td>0</td>\n",
       "      <td>0.0</td>\n",
       "      <td>0</td>\n",
       "    </tr>\n",
       "    <tr>\n",
       "      <td>2</td>\n",
       "      <td>CSS071115:044216-002334</td>\n",
       "      <td>5102700102611041321</td>\n",
       "      <td>70.566770</td>\n",
       "      <td>-0.392723</td>\n",
       "      <td>138.476707</td>\n",
       "      <td>-27.998158</td>\n",
       "      <td>1.231619</td>\n",
       "      <td>0.285714</td>\n",
       "      <td>0.179818</td>\n",
       "      <td>0.268211</td>\n",
       "      <td>...</td>\n",
       "      <td>1.246233</td>\n",
       "      <td>1.931750</td>\n",
       "      <td>0.630285</td>\n",
       "      <td>-0.572244</td>\n",
       "      <td>0.732951</td>\n",
       "      <td>0.500000</td>\n",
       "      <td>28</td>\n",
       "      <td>1</td>\n",
       "      <td>0.0</td>\n",
       "      <td>0</td>\n",
       "    </tr>\n",
       "    <tr>\n",
       "      <td>3</td>\n",
       "      <td>CSS071206:060031-105208</td>\n",
       "      <td>7120600903211011601</td>\n",
       "      <td>90.129114</td>\n",
       "      <td>-10.868934</td>\n",
       "      <td>118.681166</td>\n",
       "      <td>-15.655362</td>\n",
       "      <td>0.242655</td>\n",
       "      <td>0.400000</td>\n",
       "      <td>0.049581</td>\n",
       "      <td>0.086766</td>\n",
       "      <td>...</td>\n",
       "      <td>0.407943</td>\n",
       "      <td>0.416313</td>\n",
       "      <td>-1.161945</td>\n",
       "      <td>-0.114912</td>\n",
       "      <td>0.166090</td>\n",
       "      <td>0.400000</td>\n",
       "      <td>5</td>\n",
       "      <td>0</td>\n",
       "      <td>0.0</td>\n",
       "      <td>0</td>\n",
       "    </tr>\n",
       "    <tr>\n",
       "      <td>4</td>\n",
       "      <td>CSS071214:090904+091714</td>\n",
       "      <td>5053110904911006068</td>\n",
       "      <td>137.268268</td>\n",
       "      <td>9.287025</td>\n",
       "      <td>114.739275</td>\n",
       "      <td>35.243473</td>\n",
       "      <td>1.225036</td>\n",
       "      <td>0.153846</td>\n",
       "      <td>0.060842</td>\n",
       "      <td>0.190844</td>\n",
       "      <td>...</td>\n",
       "      <td>0.845035</td>\n",
       "      <td>1.310212</td>\n",
       "      <td>1.534900</td>\n",
       "      <td>0.971967</td>\n",
       "      <td>0.774822</td>\n",
       "      <td>0.461538</td>\n",
       "      <td>13</td>\n",
       "      <td>0</td>\n",
       "      <td>0.0</td>\n",
       "      <td>0</td>\n",
       "    </tr>\n",
       "  </tbody>\n",
       "</table>\n",
       "<p>5 rows × 28 columns</p>\n",
       "</div>"
      ],
      "text/plain": [
       "                 source_id                  id2          RA        Dec  \\\n",
       "0  CSS071112:024457+352249  6012213501311032988   41.239291  35.380553   \n",
       "1  CSS071112:085823-003729  5120100104811037790  134.595171  -0.624753   \n",
       "2  CSS071115:044216-002334  5102700102611041321   70.566770  -0.392723   \n",
       "3  CSS071206:060031-105208  7120600903211011601   90.129114 -10.868934   \n",
       "4  CSS071214:090904+091714  5053110904911006068  137.268268   9.287025   \n",
       "\n",
       "           gl         gb  amplitude  beyond1std  fpr_mid20  fpr_mid35  ...  \\\n",
       "0  187.866217 -21.512745   1.221016    0.333333   0.105355   0.271527  ...   \n",
       "1  106.148755  28.031224   1.878562    0.130435   0.077322   0.203941  ...   \n",
       "2  138.476707 -27.998158   1.231619    0.285714   0.179818   0.268211  ...   \n",
       "3  118.681166 -15.655362   0.242655    0.400000   0.049581   0.086766  ...   \n",
       "4  114.739275  35.243473   1.225036    0.153846   0.060842   0.190844  ...   \n",
       "\n",
       "   percent_amplitude      pdfp      skew  kurtosis       std  magratio  \\\n",
       "0           0.819420  1.479632  1.023488  0.083616  0.680993  0.500000   \n",
       "1           0.949115  1.369243  1.425266  0.807734  1.062428  0.478261   \n",
       "2           1.246233  1.931750  0.630285 -0.572244  0.732951  0.500000   \n",
       "3           0.407943  0.416313 -1.161945 -0.114912  0.166090  0.400000   \n",
       "4           0.845035  1.310212  1.534900  0.971967  0.774822  0.461538   \n",
       "\n",
       "   data_num  npeaks  peakstats  Var_Type  \n",
       "0        18       0        0.0         0  \n",
       "1        23       0        0.0         0  \n",
       "2        28       1        0.0         0  \n",
       "3         5       0        0.0         0  \n",
       "4        13       0        0.0         0  \n",
       "\n",
       "[5 rows x 28 columns]"
      ]
     },
     "execution_count": 34,
     "metadata": {},
     "output_type": "execute_result"
    }
   ],
   "source": [
    "features = pd.read_csv(featuresfile,\n",
    "                 header=1,\n",
    "                 sep=',',\n",
    "                 skipinitialspace=True,)\n",
    "\n",
    "\n",
    "features.columns = ['source_id', 'id2', 'RA', 'Dec', 'gl', 'gb', \n",
    "                    'amplitude', 'beyond1std', 'fpr_mid20', 'fpr_mid35', \n",
    "                    'fpr_mid50', 'fpr_mid65', 'fpr_mid80', 'linear_trend', \n",
    "                    'max_slope', 'med_abs_dev', 'med_buf_range_per', 'pair_slope_trend', \n",
    "                    'percent_amplitude', 'pdfp', 'skew', 'kurtosis', 'std', 'magratio', \n",
    "                    'data_num', 'npeaks', 'peakstats', 'Var_Type']\n",
    "features.head()"
   ]
  },
  {
   "cell_type": "code",
   "execution_count": 35,
   "metadata": {},
   "outputs": [
    {
     "name": "stdout",
     "output_type": "stream",
     "text": [
      "% Class  0  objects in Training: 0.0 0.0\n",
      "% Class  1  objects in Testing: 0.0 0.0\n",
      "############# based on standard predict ################\n",
      "Accuracy on training data: 1.00\n",
      "Accuracy on test data:     1.00\n",
      "[[234]]\n",
      "########################################################\n",
      "digraph Tree {\n",
      "node [shape=box] ;\n",
      "0 [label=\"gini = 0.0\\nsamples = 100.0%\\nvalue = 350.0\"] ;\n",
      "}\n"
     ]
    }
   ],
   "source": [
    "[clf,var1,var2] = dtclassify(features,0,1,'amplitude','beyond1std')"
   ]
  },
  {
   "cell_type": "markdown",
   "metadata": {},
   "source": [
    "### That was no classification at all! All objects were declared to be in the same class."
   ]
  },
  {
   "cell_type": "code",
   "execution_count": 36,
   "metadata": {},
   "outputs": [
    {
     "data": {
      "image/png": "[encoded data removed]",
      "text/plain": [
       "<IPython.core.display.Image object>"
      ]
     },
     "execution_count": 36,
     "metadata": {},
     "output_type": "execute_result"
    }
   ],
   "source": [
    "graph3 = print_tree(clf, features=[var1, var2], class_names=['No', 'Yes'])\n",
    "Image(graph3.create_png())"
   ]
  },
  {
   "cell_type": "markdown",
   "metadata": {},
   "source": [
    "## We will now use Random forests instead of individual trees"
   ]
  },
  {
   "cell_type": "markdown",
   "metadata": {},
   "source": [
    "## Random Forests\n",
    "\n",
    "Random forests works by aggregating the results from a number of randomly perturbed decision trees constructed to explain the data.\n",
    "\n",
    "### A bit on bootstrap aggregation\n",
    "The idea of random forests arises naturally by first considering Tree bagging. In tree bagging we do the following $b$ times:\n",
    "\n",
    "1. Take a random subsample of your data\n",
    "2. Build a classification (or regression) tree like in the previous section\n",
    "3. repeat\n",
    "\n",
    "For a new data point we can then simply run that point through all the $b$ trees constructed, get all the decisions $\\hat{Y}_1,..., \\hat{Y}_b$ and take a majority vote. This form of averaging gets rid of some of the over-fitting issues found in just using one tree. Plus fitting these trees costs a lot computationally, so what else can we do?\n",
    "\n",
    "### Leads to Random Forests?\n",
    "This method is very similar to the bootstrap aggregation method. However, as the name suggests some extra randomness is injected into the building of the trees. It turns out that the trees that are build from the random subsample of your data are quite similar, so the solution is quite simple. In Random Forests we do the following $b$ times:\n",
    "\n",
    "1. Take a random subsample of your data\n",
    "2. randomly select a subset of predictors to be used in building the tree\n",
    "3. Build a classification (or regression) tree with only those variables selected in 2\n",
    "4. repeat\n",
    "\n",
    "We take a majority vote the same as before. Have a look at the help page for the [Random Forest Classifier](http://scikit-learn.org/stable/modules/generated/sklearn.ensemble.RandomForestClassifier.html), we'll be optimizing two options: `n_estimators` - the number of trees in the forest, `max_features` - the number of features to consider when looking for the best split (step 2 above)."
   ]
  },
  {
   "cell_type": "markdown",
   "metadata": {},
   "source": [
    "### Select appropriate variables\n",
    "### Note that a couple of variables chosen here are perhaps not good variables"
   ]
  },
  {
   "cell_type": "code",
   "execution_count": 38,
   "metadata": {},
   "outputs": [],
   "source": [
    "Xnames = list(features.columns.values[4:-1])"
   ]
  },
  {
   "cell_type": "markdown",
   "metadata": {},
   "source": [
    "### Like before we will define a training set of 60%"
   ]
  },
  {
   "cell_type": "code",
   "execution_count": 39,
   "metadata": {},
   "outputs": [
    {
     "name": "stdout",
     "output_type": "stream",
     "text": [
      "10\n",
      "############# based on standard predict ################\n",
      "Accuracy on training data: 0.99\n",
      "Accuracy on test data:     0.89\n",
      "[[173   5]\n",
      " [ 20  36]]\n",
      "########################################################\n",
      "using mask\n"
     ]
    },
    {
     "name": "stderr",
     "output_type": "stream",
     "text": [
      "/home/abao/anaconda3/lib/python3.7/site-packages/sklearn/ensemble/_forest.py:541: UserWarning: Some inputs do not have OOB scores. This probably means too few trees were used to compute any reliable oob estimates.\n",
      "  warn(\"Some inputs do not have OOB scores. \"\n",
      "/home/abao/anaconda3/lib/python3.7/site-packages/sklearn/ensemble/_forest.py:546: RuntimeWarning: invalid value encountered in true_divide\n",
      "  predictions[k].sum(axis=1)[:, np.newaxis])\n"
     ]
    },
    {
     "name": "stdout",
     "output_type": "stream",
     "text": [
      "############# based on standard predict ################\n",
      "Accuracy on training data: 1.00\n",
      "Accuracy on test data:     0.88\n",
      "[[171   7]\n",
      " [ 20  36]]\n",
      "########################################################\n",
      "15\n"
     ]
    }
   ],
   "source": [
    "clfForest = RandomForestClassifier(n_estimators=10, oob_score=True, max_features='auto')\n",
    "features['target'] = features['Var_Type']\n",
    "\n",
    "subdf=features[Xnames]\n",
    "X=subdf.values\n",
    "y=(features['target'].values==1)*1\n",
    "\n",
    "# Create test/train mask\n",
    "itrain, itest = train_test_split(range(features.shape[0]), train_size=0.6)\n",
    "mask=np.ones(features.shape[0], dtype='int')\n",
    "mask[itrain]=1\n",
    "mask[itest]=0\n",
    "mask = (mask==1)\n",
    "    \n",
    "\n",
    "# TRAINING AND TESTING\n",
    "Xtrain, Xtest, ytrain, ytest = X[mask], X[~mask], y[mask], y[~mask]\n",
    "\n",
    "# FIT THE TREE \n",
    "clf=clfForest.fit(Xtrain, ytrain)\n",
    "\n",
    "print(clfForest.n_estimators)\n",
    "\n",
    "training_accuracy = clfForest.score(Xtrain, ytrain)\n",
    "test_accuracy = clfForest.score(Xtest, ytest)\n",
    "print(\"############# based on standard predict ################\")\n",
    "print(\"Accuracy on training data: %0.2f\" % (training_accuracy))\n",
    "print(\"Accuracy on test data:     %0.2f\" % (test_accuracy))\n",
    "print(confusion_matrix(ytest, clf.predict(Xtest)))\n",
    "print(\"########################################################\")\n",
    "\n",
    "parameters = {\"n_estimators\": list(range(1, 20))}\n",
    "clfForest, Xtrain, ytrain, Xtest, ytest = do_classify(clfForest, parameters, \n",
    "                                                       features, Xnames, 'target', 1, mask=mask, \n",
    "                                                       n_jobs = 4, score_func='f1')\n",
    "print(clfForest.n_estimators)"
   ]
  },
  {
   "cell_type": "markdown",
   "metadata": {},
   "source": [
    "### That was not great, but who said classification was easy?\n",
    "### Try with other classes, perhaps get other features, and of yes, a larger training sample with less sparse light curves."
   ]
  },
  {
   "cell_type": "code",
   "execution_count": null,
   "metadata": {},
   "outputs": [],
   "source": []
  }
 ],
 "metadata": {
  "kernelspec": {
   "display_name": "Python 3",
   "language": "python",
   "name": "python3"
  },
  "language_info": {
   "codemirror_mode": {
    "name": "ipython",
    "version": 3
   },
   "file_extension": ".py",
   "mimetype": "text/x-python",
   "name": "python",
   "nbconvert_exporter": "python",
   "pygments_lexer": "ipython3",
   "version": "3.7.4"
  }
 },
 "nbformat": 4,
 "nbformat_minor": 2
}
